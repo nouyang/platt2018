{
 "cells": [
  {
   "cell_type": "code",
   "execution_count": 107,
   "metadata": {
    "scrolled": true
   },
   "outputs": [],
   "source": [
    "# Wed 17:10 \n",
    "# Creates rectangle \"depth images\", a CNN, solves, and graphs the losses (by epoch)\n",
    "# as well as the labels against the original image, and the true image (with x's)\n",
    "# nrw\n",
    "from PIL import Image, ImageDraw, ImageFont\n",
    "%matplotlib inline\n",
    "import numpy as np\n",
    "\n",
    "import torch\n",
    "import torch.nn as nn\n",
    "from skimage import io\n",
    "import math\n",
    "\n",
    "from torch.utils.data import Dataset, DataLoader\n",
    "import torch.nn.functional as F\n"
   ]
  },
  {
   "cell_type": "code",
   "execution_count": 42,
   "metadata": {
    "scrolled": true
   },
   "outputs": [],
   "source": [
    "\n",
    "IMG_X, IMG_Y = 400,300\n",
    "# length and width of blocks (fixed for now)\n",
    "block_l, block_w = 25, 25\n",
    "num_images = 50\n",
    "\n",
    "# img_list = []\n",
    "true_coords = []\n",
    "\n",
    "\n",
    "# Calc rectangle vertices. makeRectangle() credit Sparkler, stackoverflow, feb 17\n",
    "def makeRectangle(l, w, theta, offset=(0, 0)):\n",
    "    c, s = math.cos(theta), math.sin(theta)\n",
    "    rectCoords = [(l/2.0, w/2.0), (l/2.0, -w/2.0), (-l/2.0, -w/2.0), (-l/2.0, w/2.0)]\n",
    "    return [(c*x-s*y+offset[0], s*x+c*y+offset[1]) for (x, y) in rectCoords]\n",
    "\n",
    "\n",
    "# ---- Make depth images ---\n",
    "for i in range(num_images):\n",
    "    orient = 0 # degrees\n",
    "    img = Image.new('RGB', (IMG_X, IMG_Y), 'black')\n",
    "\n",
    "    # block_l and _w offset so blocks don't run off edge of image\n",
    "    rand_x = int(np.random.rand() * (IMG_X-block_l))\n",
    "    rand_y = int(np.random.rand() * (IMG_Y-block_w))\n",
    "\n",
    "    true_coords.append(np.array((rand_x, rand_y)))\n",
    "\n",
    "    rect_vertices = makeRectangle(block_l, block_w, orient, offset=(rand_x,\n",
    "                                                                    rand_y))\n",
    "    idraw = ImageDraw.Draw(img)\n",
    "    idraw.polygon(rect_vertices, fill='white')\n",
    "\n",
    "    # use a truetype font\n",
    "    #font = ImageFont.truetype(\"DejavuSans.ttf\", 15)\n",
    "    #font = ImageFont.truetype(\"Arial.ttf\",14)\n",
    "    #idraw.text((10, 25), '('+ str(rand_x) + ', ' + str(rand_y) +')')\n",
    "\n",
    "\n",
    "    img.save('./data/rect'+str(i)+'.png')\n",
    "\n",
    "\n",
    "    \n",
    "class RectDepthImgsDataset(Dataset):\n",
    "    \"\"\"Artificially generated depth images dataset\"\"\"\n",
    "\n",
    "    def __init__(self, img_dir, coords, transform=None):\n",
    "        \"\"\"\n",
    "        \"\"\"\n",
    "        self.img_dir = img_dir\n",
    "        self.true_coords = coords\n",
    "        self.transform = transform\n",
    "\n",
    "    def __len__(self):\n",
    "        return len(self.true_coords)\n",
    "\n",
    "    def __getitem__(self, idx):\n",
    "        # image = self.images[idx]\n",
    "        image = io.imread(self.img_dir + '/rect'+str(idx)+'.png')\n",
    "        image = torch.FloatTensor(image).permute(2, 0, 1) #PIL and torch expect difft orders\n",
    "        coords = torch.FloatTensor(true_coords[idx])\n",
    "\n",
    "        if self.transform:\n",
    "            image = self.transform(image)\n",
    "\n",
    "        # sample = {'image': image, 'grasp': str(coords[0]) + str(coords[1])}\n",
    "        sample = {'image': image, 'grasp': coords}\n",
    "        sample = image, coords\n",
    "\n",
    "        return sample"
   ]
  },
  {
   "cell_type": "code",
   "execution_count": 112,
   "metadata": {
    "scrolled": true
   },
   "outputs": [],
   "source": [
    "# Hyper parameters\n",
    "num_epochs = 10 \n",
    "num_classes = 2\n",
    "batch_size = 4 \n",
    "learning_rate = 0.001\n",
    "\n",
    "# Dataset is depth images of rectangular blocks\n",
    "train_dataset = RectDepthImgsDataset(img_dir='./data', coords=true_coords)\n",
    "\n",
    "# Data loader\n",
    "train_loader = DataLoader(dataset=train_dataset, batch_size=batch_size,\n",
    "                          shuffle=True)\n",
    "\n",
    "const = 16*47*47\n",
    "#const = 16*97*72\n",
    "\n",
    "\n",
    "# 300x300\n",
    "#torch.Size([4, 300, 300, 3])\n",
    "#torch.Size([4, 3, 300, 300])\n",
    "#torch.Size([4, 6, 148, 148])\n",
    "#torch.Size([4, 16, 72, 72])\n",
    "\n",
    "\n",
    "# 200x200\n",
    "#const = 16*47*47*4\n",
    "#torch.Size([4, 200, 200, 3])\n",
    "#torch.Size([4, 3, 200, 200])\n",
    "#torch.Size([4, 6, 98, 98])\n",
    "#torch.Size([4, 16, 47, 47])\n",
    "\n",
    "# = 200-4 / 2\n",
    "# where 4 = 5x5 (conv) -1 = area of image after conv without padding = 200->98\n",
    "# = 98-4 / 2\n",
    "# where 4 = 5x5 (conv) -1 = area of image after conv without padding = 98->47\n",
    "# output is 47x47 image, with 16 output channels\n",
    "\n",
    "\n",
    "# 400x300\n",
    "#torch.Size([4, 300, 400, 3])\n",
    "#torch.Size([4, 3, 400, 300])\n",
    "#torch.Size([4, 6, 198, 148])\n",
    "#torch.Size([4, 16, 97, 72])\n",
    "\n",
    "\n",
    "class Net(nn.Module):  # CIFAR is 32x32x3, MNIST is 28x28x1)\n",
    "    def __init__(self, IMG_X, IMG_Y):\n",
    "        super(Net, self).__init__()\n",
    "        self._imgx = IMG_X\n",
    "        self._imgy = IMG_Y\n",
    "        _pool = 2\n",
    "        _stride = 5\n",
    "        _outputlayers = 16\n",
    "        \n",
    "        def _calc(val):\n",
    "            layer_size = (val- (_stride-1)) / _pool\n",
    "            return layer_size \n",
    "        \n",
    "        #print(self._imgx)\n",
    "        self._const = _calc(_calc(self._imgx))\n",
    "        self._const *= _calc(_calc(self._imgy))\n",
    "        self._const *= _outputlayers \n",
    "        #print(self._const)\n",
    "        self._const = int(self._const)\n",
    "        \n",
    "        self.conv1 = nn.Conv2d(3, 6, _stride)\n",
    "        self.pool = nn.MaxPool2d(_pool, _pool)\n",
    "        self.conv2 = nn.Conv2d(6, _outputlayers, _stride)\n",
    "        self.fc1 = nn.Linear(self._const, 120)\n",
    "        self.fc2 = nn.Linear(120, 84)\n",
    "        self.fc3 = nn.Linear(84, num_classes)\n",
    "        \n",
    "\n",
    "    def forward(self, x):\n",
    "        #print(x.size())\n",
    "        x = x.view(-1, 3, IMG_X, IMG_Y)\n",
    "        x = self.pool(F.relu(self.conv1(x)))\n",
    "        x = self.pool(F.relu(self.conv2(x)))\n",
    "        x = x.view(-1, self._const)\n",
    "        x = F.relu(self.fc1(x))\n",
    "        x = F.relu(self.fc2(x))\n",
    "        x = self.fc3(x)\n",
    "        return x\n",
    "\n",
    "\n",
    "model = Net(IMG_X, IMG_Y)\n",
    "images = iter(train_loader)\n",
    "outputs = model(images.next()[0])\n",
    "\n",
    "criterion = nn.MSELoss()\n",
    "optimizer = torch.optim.Adam(model.parameters(), lr=learning_rate)"
   ]
  },
  {
   "cell_type": "code",
   "execution_count": 119,
   "metadata": {
    "scrolled": true
   },
   "outputs": [
    {
     "name": "stdout",
     "output_type": "stream",
     "text": [
      "Training model now...\n",
      "Epoch [1/10], Step [1/13], Loss: 546.0654\n",
      "Epoch [1/10], Step [2/13], Loss: 186.8227\n",
      "Epoch [1/10], Step [3/13], Loss: 654.1339\n",
      "Epoch [1/10], Step [4/13], Loss: 349.9690\n",
      "Epoch [1/10], Step [5/13], Loss: 133.7014\n",
      "Epoch [1/10], Step [6/13], Loss: 162.4137\n",
      "Epoch [1/10], Step [7/13], Loss: 188.5582\n",
      "Epoch [1/10], Step [8/13], Loss: 19.6055\n",
      "Epoch [1/10], Step [9/13], Loss: 331.2300\n",
      "Epoch [1/10], Step [10/13], Loss: 252.0109\n",
      "Epoch [1/10], Step [11/13], Loss: 3122.6326\n",
      "Epoch [1/10], Step [12/13], Loss: 643.8511\n",
      "Epoch [1/10], Step [13/13], Loss: 33.2581\n",
      "Epoch [2/10], Step [1/13], Loss: 215.4266\n",
      "Epoch [2/10], Step [2/13], Loss: 173.0641\n",
      "Epoch [2/10], Step [3/13], Loss: 173.9634\n",
      "Epoch [2/10], Step [4/13], Loss: 642.3748\n",
      "Epoch [2/10], Step [5/13], Loss: 576.8269\n",
      "Epoch [2/10], Step [6/13], Loss: 208.5045\n",
      "Epoch [2/10], Step [7/13], Loss: 127.1689\n",
      "Epoch [2/10], Step [8/13], Loss: 43.7680\n",
      "Epoch [2/10], Step [9/13], Loss: 679.9045\n",
      "Epoch [2/10], Step [10/13], Loss: 101.7159\n",
      "Epoch [2/10], Step [11/13], Loss: 501.6889\n",
      "Epoch [2/10], Step [12/13], Loss: 404.0255\n",
      "Epoch [2/10], Step [13/13], Loss: 157.2618\n",
      "Epoch [3/10], Step [1/13], Loss: 147.0123\n",
      "Epoch [3/10], Step [2/13], Loss: 527.3416\n",
      "Epoch [3/10], Step [3/13], Loss: 414.7185\n",
      "Epoch [3/10], Step [4/13], Loss: 274.6530\n",
      "Epoch [3/10], Step [5/13], Loss: 252.8105\n",
      "Epoch [3/10], Step [6/13], Loss: 172.3912\n",
      "Epoch [3/10], Step [7/13], Loss: 356.5443\n",
      "Epoch [3/10], Step [8/13], Loss: 786.5450\n",
      "Epoch [3/10], Step [9/13], Loss: 953.5750\n",
      "Epoch [3/10], Step [10/13], Loss: 588.8041\n",
      "Epoch [3/10], Step [11/13], Loss: 108.0943\n",
      "Epoch [3/10], Step [12/13], Loss: 778.4744\n",
      "Epoch [3/10], Step [13/13], Loss: 827.3506\n",
      "Epoch [4/10], Step [1/13], Loss: 437.0535\n",
      "Epoch [4/10], Step [2/13], Loss: 64.0936\n",
      "Epoch [4/10], Step [3/13], Loss: 386.6277\n",
      "Epoch [4/10], Step [4/13], Loss: 57.7477\n",
      "Epoch [4/10], Step [5/13], Loss: 313.1635\n",
      "Epoch [4/10], Step [6/13], Loss: 60.2133\n",
      "Epoch [4/10], Step [7/13], Loss: 33.2562\n",
      "Epoch [4/10], Step [8/13], Loss: 219.7199\n",
      "Epoch [4/10], Step [9/13], Loss: 390.5960\n",
      "Epoch [4/10], Step [10/13], Loss: 65.7192\n",
      "Epoch [4/10], Step [11/13], Loss: 301.9785\n",
      "Epoch [4/10], Step [12/13], Loss: 213.5603\n",
      "Epoch [4/10], Step [13/13], Loss: 259.5075\n",
      "Epoch [5/10], Step [1/13], Loss: 103.5002\n",
      "Epoch [5/10], Step [2/13], Loss: 36.6311\n",
      "Epoch [5/10], Step [3/13], Loss: 62.9902\n",
      "Epoch [5/10], Step [4/13], Loss: 227.2265\n",
      "Epoch [5/10], Step [5/13], Loss: 78.5822\n",
      "Epoch [5/10], Step [6/13], Loss: 337.5360\n",
      "Epoch [5/10], Step [7/13], Loss: 377.1353\n",
      "Epoch [5/10], Step [8/13], Loss: 148.9652\n",
      "Epoch [5/10], Step [9/13], Loss: 49.1136\n",
      "Epoch [5/10], Step [10/13], Loss: 173.8004\n",
      "Epoch [5/10], Step [11/13], Loss: 72.9437\n",
      "Epoch [5/10], Step [12/13], Loss: 158.4944\n",
      "Epoch [5/10], Step [13/13], Loss: 11.7949\n",
      "Epoch [6/10], Step [1/13], Loss: 177.3431\n",
      "Epoch [6/10], Step [2/13], Loss: 266.7975\n",
      "Epoch [6/10], Step [3/13], Loss: 61.1420\n",
      "Epoch [6/10], Step [4/13], Loss: 126.9456\n",
      "Epoch [6/10], Step [5/13], Loss: 197.6577\n",
      "Epoch [6/10], Step [6/13], Loss: 16.0815\n",
      "Epoch [6/10], Step [7/13], Loss: 120.5378\n",
      "Epoch [6/10], Step [8/13], Loss: 75.2451\n",
      "Epoch [6/10], Step [9/13], Loss: 98.6908\n",
      "Epoch [6/10], Step [10/13], Loss: 72.2183\n",
      "Epoch [6/10], Step [11/13], Loss: 90.5511\n",
      "Epoch [6/10], Step [12/13], Loss: 74.2163\n",
      "Epoch [6/10], Step [13/13], Loss: 15.7217\n",
      "Epoch [7/10], Step [1/13], Loss: 85.7854\n",
      "Epoch [7/10], Step [2/13], Loss: 248.6292\n",
      "Epoch [7/10], Step [3/13], Loss: 148.2593\n",
      "Epoch [7/10], Step [4/13], Loss: 101.6163\n",
      "Epoch [7/10], Step [5/13], Loss: 38.7767\n",
      "Epoch [7/10], Step [6/13], Loss: 225.0272\n",
      "Epoch [7/10], Step [7/13], Loss: 145.9267\n",
      "Epoch [7/10], Step [8/13], Loss: 559.6829\n",
      "Epoch [7/10], Step [9/13], Loss: 27.7632\n",
      "Epoch [7/10], Step [10/13], Loss: 70.9069\n",
      "Epoch [7/10], Step [11/13], Loss: 140.0309\n",
      "Epoch [7/10], Step [12/13], Loss: 91.0073\n",
      "Epoch [7/10], Step [13/13], Loss: 148.4480\n",
      "Epoch [8/10], Step [1/13], Loss: 32.9116\n",
      "Epoch [8/10], Step [2/13], Loss: 48.8667\n",
      "Epoch [8/10], Step [3/13], Loss: 110.1922\n",
      "Epoch [8/10], Step [4/13], Loss: 88.0584\n",
      "Epoch [8/10], Step [5/13], Loss: 91.6667\n",
      "Epoch [8/10], Step [6/13], Loss: 96.2131\n",
      "Epoch [8/10], Step [7/13], Loss: 59.7487\n",
      "Epoch [8/10], Step [8/13], Loss: 69.2007\n",
      "Epoch [8/10], Step [9/13], Loss: 36.6013\n",
      "Epoch [8/10], Step [10/13], Loss: 48.8528\n",
      "Epoch [8/10], Step [11/13], Loss: 43.4051\n",
      "Epoch [8/10], Step [12/13], Loss: 28.2217\n",
      "Epoch [8/10], Step [13/13], Loss: 87.4862\n",
      "Epoch [9/10], Step [1/13], Loss: 108.2439\n",
      "Epoch [9/10], Step [2/13], Loss: 105.3824\n",
      "Epoch [9/10], Step [3/13], Loss: 53.5253\n",
      "Epoch [9/10], Step [4/13], Loss: 79.9112\n",
      "Epoch [9/10], Step [5/13], Loss: 48.8048\n",
      "Epoch [9/10], Step [6/13], Loss: 235.9404\n",
      "Epoch [9/10], Step [7/13], Loss: 140.2945\n",
      "Epoch [9/10], Step [8/13], Loss: 125.2775\n",
      "Epoch [9/10], Step [9/13], Loss: 38.2047\n",
      "Epoch [9/10], Step [10/13], Loss: 86.1047\n",
      "Epoch [9/10], Step [11/13], Loss: 78.2406\n",
      "Epoch [9/10], Step [12/13], Loss: 86.4581\n",
      "Epoch [9/10], Step [13/13], Loss: 73.9881\n",
      "Epoch [10/10], Step [1/13], Loss: 262.2590\n",
      "Epoch [10/10], Step [2/13], Loss: 373.4180\n",
      "Epoch [10/10], Step [3/13], Loss: 81.0279\n",
      "Epoch [10/10], Step [4/13], Loss: 129.1708\n",
      "Epoch [10/10], Step [5/13], Loss: 102.3635\n",
      "Epoch [10/10], Step [6/13], Loss: 7.6983\n",
      "Epoch [10/10], Step [7/13], Loss: 282.3243\n",
      "Epoch [10/10], Step [8/13], Loss: 99.3075\n",
      "Epoch [10/10], Step [9/13], Loss: 279.1198\n",
      "Epoch [10/10], Step [10/13], Loss: 179.6736\n",
      "Epoch [10/10], Step [11/13], Loss: 40.2029\n",
      "Epoch [10/10], Step [12/13], Loss: 132.4578\n",
      "Epoch [10/10], Step [13/13], Loss: 24.0824\n"
     ]
    }
   ],
   "source": [
    "losses_list = []\n",
    "print('Training model now...')\n",
    "total_step = len(train_loader)\n",
    "for epoch in range(num_epochs):\n",
    "    for i_batch, (images, labels) in enumerate(train_loader):\n",
    "\n",
    "        optimizer.zero_grad()\n",
    "\n",
    "        # Forward pass\n",
    "        outputs = model(images)\n",
    "        loss = criterion(outputs, labels)\n",
    "\n",
    "        # Backward and optimize\n",
    "        loss.backward()\n",
    "        optimizer.step()\n",
    "\n",
    "        if (i_batch+1) % 1 == 0:\n",
    "            print('Epoch [{}/{}], Step [{}/{}], Loss: {:.4f}'.format(epoch+1,\n",
    "                                                                      num_epochs,\n",
    "                                                                      i_batch+1,\n",
    "                                                                      total_step,\n",
    "                                                                      loss.item()))\n",
    "            losses_list.append(loss.item())"
   ]
  },
  {
   "cell_type": "code",
   "execution_count": 114,
   "metadata": {
    "scrolled": true
   },
   "outputs": [],
   "source": [
    "from IPython.display import display # to display images\n",
    "def imshow_coord(img, a_label):\n",
    "    img = torchvision.transforms.ToPILImage()(img)\n",
    "    draw = ImageDraw.Draw(img)\n",
    "    draw = draw_crosspointer(a_label, draw, 'green', 'white', length=8)\n",
    "    display(img)\n",
    "    \n",
    "def draw_crosspointer(xy, draw, fillcolor_X='green', fillcolor='white', length=2):\n",
    "    a,b = tuple(xy)\n",
    "    draw.line((a-length, b+length, a+length, b-length), fill=fillcolor_X)\n",
    "    draw.line((a-length, b-length, a+length, b+length), fill=fillcolor_X)\n",
    "    draw.point((a,b))\n",
    "    return draw"
   ]
  },
  {
   "cell_type": "code",
   "execution_count": 120,
   "metadata": {
    "scrolled": true
   },
   "outputs": [
    {
     "name": "stdout",
     "output_type": "stream",
     "text": [
      "4\n",
      "x,y truth tensor([109., 207.])\n",
      "x,y guess by net tensor([109.4909, 214.5787]) \n",
      "\n",
      "image size:  torch.Size([3, 300, 400]) \n",
      "\n",
      "net output: \n"
     ]
    },
    {
     "data": {
      "image/png": "[encoded data removed]",
      "text/plain": [
       "<PIL.Image.Image image mode=RGB size=400x300 at 0x7FE6A59D0E48>"
      ]
     },
     "metadata": {},
     "output_type": "display_data"
    },
    {
     "name": "stdout",
     "output_type": "stream",
     "text": [
      "truth label: \n"
     ]
    },
    {
     "data": {
      "image/png": "[encoded data removed]",
      "text/plain": [
       "<PIL.Image.Image image mode=RGB size=400x300 at 0x7FE6A59D0320>"
      ]
     },
     "metadata": {},
     "output_type": "display_data"
    }
   ],
   "source": [
    "import torchvision \n",
    "import matplotlib.pyplot as plt\n",
    "import copy\n",
    "# get some random training images\n",
    "with torch.no_grad():\n",
    "    dataiter = iter(train_loader)\n",
    "    images, labels = dataiter.next()\n",
    "    outputs = model(images)\n",
    "    \n",
    "    # show images\n",
    "    #imshow_coord(torchvision.utils.make_grid(images), (outputs))\n",
    "\n",
    "\n",
    "    # print('Predicted: ', ' '.join('%5s' % classes[predicted[j]]\n",
    "                                  # for j in range(4)))\n",
    " \n",
    "n =1 \n",
    "print(len(labels))\n",
    "print('x,y truth', labels[n])\n",
    "print('x,y guess by net', outputs[n], '\\n')\n",
    "\n",
    "images_copy = copy.deepcopy(images)\n",
    "print('image size: ', images_copy[n].size(), '\\n')\n",
    "print('net output: ')\n",
    "imshow_coord(images_copy[n], outputs[n])\n",
    "print('truth label: ')\n",
    "imshow_coord(images_copy[n], labels[n])\n",
    "\n",
    "#imagePIL = torchvision.transforms.ToPILImage()(images[n])\n",
    "#print('PIL image size', imagePIL.size)\n",
    "#imagePIL.save('test.png')\n",
    "#display(imagePIL)\n",
    "\n",
    "#display(Image.open('./data/rect'+str(n)+'.png'))"
   ]
  },
  {
   "cell_type": "code",
   "execution_count": 144,
   "metadata": {},
   "outputs": [
    {
     "name": "stdout",
     "output_type": "stream",
     "text": [
      "[  0  13  26  39  52  65  78  91 104 117]\n"
     ]
    },
    {
     "data": {
      "image/png": "[encoded data removed]",
      "text/plain": [
       "<Figure size 2160x360 with 1 Axes>"
      ]
     },
     "metadata": {},
     "output_type": "display_data"
    }
   ],
   "source": [
    "import seaborn as sns\n",
    "sns.set()\n",
    "f = plt.subplot()\n",
    "f.plot(range(len(losses_list)), losses_list)\n",
    "\n",
    "plt.rcParams['figure.figsize'] = [30, 5]\n",
    "xposition = np.array(range(num_epochs))  * (total_step) \n",
    "print(xposition)\n",
    "for xc in xposition:\n",
    "    plt.axvline(x=xc, color='k', linestyle='--')"
   ]
  },
  {
   "cell_type": "code",
   "execution_count": 116,
   "metadata": {},
   "outputs": [
    {
     "name": "stdout",
     "output_type": "stream",
     "text": [
      "[225   9]\n",
      "tensor([[239.9477,   8.5142]])\n"
     ]
    },
    {
     "data": {
      "image/png": "[encoded data removed]",
      "text/plain": [
       "<PIL.Image.Image image mode=RGB size=400x300 at 0x7FE6A5ADEEB8>"
      ]
     },
     "metadata": {},
     "output_type": "display_data"
    },
    {
     "data": {
      "text/plain": [
       "<matplotlib.image.AxesImage at 0x7fe6a59ebac8>"
      ]
     },
     "execution_count": 116,
     "metadata": {},
     "output_type": "execute_result"
    },
    {
     "data": {
      "image/png": "[encoded data removed]",
      "text/plain": [
       "<Figure size 432x288 with 1 Axes>"
      ]
     },
     "metadata": {
      "needs_background": "light"
     },
     "output_type": "display_data"
    }
   ],
   "source": [
    "%matplotlib inline\n",
    "#im = Image.open(\"Mew.jpg\")\n",
    "n = 5\n",
    "\n",
    "image = io.imread('./data/rect'+str(n)+'.png')\n",
    "image_tensor = torch.FloatTensor(image).permute(2, 0, 1) #PIL and torch expect difft orders\n",
    "coords = torch.FloatTensor(true_coords[n])\n",
    "with torch.no_grad():\n",
    "    output = model(image_tensor)\n",
    "\n",
    "print(true_coords[n])\n",
    "print(output)\n",
    "x,y = output.numpy().flatten()\n",
    "imshow_coord(image, (x,y))\n",
    "plt.imshow(image)\n",
    "\n"
   ]
  },
  {
   "cell_type": "code",
   "execution_count": 118,
   "metadata": {},
   "outputs": [
    {
     "name": "stderr",
     "output_type": "stream",
     "text": [
      "Clipping input data to the valid range for imshow with RGB data ([0..1] for floats or [0..255] for integers).\n"
     ]
    },
    {
     "name": "stdout",
     "output_type": "stream",
     "text": [
      "torch.Size([4, 3, 300, 400])\n",
      "tensor(255.) tensor(0.) torch.Size([3, 304, 1610])\n",
      "(304, 1610, 3)\n",
      "3\n"
     ]
    },
    {
     "data": {
      "image/png": "[encoded data removed]",
      "text/plain": [
       "<Figure size 2160x360 with 1 Axes>"
      ]
     },
     "metadata": {
      "needs_background": "light"
     },
     "output_type": "display_data"
    }
   ],
   "source": [
    "#img = Image.new('RGB', (300,400), 'gray')\n",
    "n = 0\n",
    "#imshow_coord(images[n], outputs[n], labels[n])\n",
    "\n",
    "print(images.size())\n",
    "a = torchvision.utils.make_grid(images)\n",
    "print(a.max(), a.min(), a.size())\n",
    "#a = a / 2 + 0.5     # unnormalize\n",
    "\n",
    "a = a.numpy()\n",
    "a = np.transpose(a,(1,2,0))\n",
    "print(a.shape)\n",
    "print(a.ndim)\n",
    "\n",
    "#ran = a.max() - a.min()\n",
    "#a = (a/ran )\n",
    "\n",
    "plt.imshow(a)\n",
    "#x,y = labels[0].numpy()\n",
    "#plt.scatter(x,y, color='g', marker='x', linewidth='1')\n",
    "\n",
    "plt.rcParams['figure.figsize'] = [30, 5]\n",
    "for i in range(len(labels)):\n",
    "    x,y = labels[i].numpy()\n",
    "    plt.scatter(x + i*IMG_X,y, color='g', marker='x', linewidth='1')\n",
    "#plt.imshow(np.transpose(a, (2,0,1)))"
   ]
  },
  {
   "cell_type": "code",
   "execution_count": null,
   "metadata": {},
   "outputs": [],
   "source": []
  }
 ],
 "metadata": {
  "kernelspec": {
   "display_name": "Python 3",
   "language": "python",
   "name": "python3"
  },
  "language_info": {
   "codemirror_mode": {
    "name": "ipython",
    "version": 3
   },
   "file_extension": ".py",
   "mimetype": "text/x-python",
   "name": "python",
   "nbconvert_exporter": "python",
   "pygments_lexer": "ipython3",
   "version": "3.6.6"
  }
 },
 "nbformat": 4,
 "nbformat_minor": 2
}
