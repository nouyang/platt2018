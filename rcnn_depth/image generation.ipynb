{
 "cells": [
  {
   "cell_type": "markdown",
   "metadata": {},
   "source": [
    "# CNN Prototyping\n",
    "Dec 2018\n",
    "\n",
    "Regression based grasp predictor\n",
    "* Input is black and white image\n",
    "* Net is 2 conv layers, 3 FC layers\n",
    "* Output is x,y, theta of grasp"
   ]
  },
  {
   "cell_type": "code",
   "execution_count": 1,
   "metadata": {
    "scrolled": true
   },
   "outputs": [],
   "source": [
    "from PIL import Image, ImageDraw, ImageFont\n",
    "%matplotlib inline\n",
    "import numpy as np\n",
    "\n",
    "import torch\n",
    "import torch.nn as nn\n",
    "from skimage import io\n",
    "import math\n",
    "\n",
    "from torch.utils.data import Dataset, DataLoader\n",
    "import torch.nn.functional as F\n",
    "import os\n",
    "\n",
    "from IPython.display import Audio\n",
    "import matplotlib.pyplot as plt"
   ]
  },
  {
   "cell_type": "code",
   "execution_count": 2,
   "metadata": {
    "scrolled": true
   },
   "outputs": [
    {
     "name": "stdout",
     "output_type": "stream",
     "text": [
      "./data1\n",
      "1500\n",
      "././data1/test\n"
     ]
    }
   ],
   "source": [
    "IMG_X, IMG_Y = 200,200 \n",
    "# length and width of blocks (fixed for now)\n",
    "block_l, block_w = 20, 30\n",
    "\n",
    "# img_list = []\n",
    "\n",
    "\n",
    "# Calc rectangle vertices. makeRectangle() credit Sparkler, stackoverflow, feb 17\n",
    "def makeRectangle(l, w, theta, offset=(0, 0)):\n",
    "    c, s = math.cos(theta), math.sin(theta)\n",
    "    rectCoords = [(l/2.0, w/2.0), (l/2.0, -w/2.0), (-l/2.0, -w/2.0), (-l/2.0, w/2.0)]\n",
    "    return [(c*x-s*y+offset[0], s*x+c*y+offset[1]) for (x, y) in rectCoords]\n",
    "\n",
    "\n",
    "# ---- Make depth images ---\n",
    "def make_dataset(dirname, num_images):\n",
    "    true_coords = []\n",
    "    newpath = './' + dirname  \n",
    "    if not os.path.exists(newpath):\n",
    "        os.makedirs(newpath)\n",
    "        print(newpath)\n",
    "    for i in range(num_images):\n",
    "        #orient = 0 # degrees\n",
    "        img = Image.new('RGB', (IMG_X, IMG_Y), 'black')\n",
    "\n",
    "        # block_l and _w offset so blocks don't run off edge of image \n",
    "        rand_x = int(np.random.rand() * (IMG_X-2*block_l)) + block_l\n",
    "        rand_y = int(np.random.rand() * (IMG_Y-2*block_w)) + block_w\n",
    "        orient = int(np.random.rand() * 180)  # .random() is range [0.0, 1.0).\n",
    "        orient = math.radians(orient) # math.cos takes radians!\n",
    "\n",
    "        true_coords.append(np.array((rand_x, rand_y, orient)))\n",
    "\n",
    "        rect_vertices = makeRectangle(block_l, block_w, orient, offset=(rand_x,\n",
    "                                                                        rand_y))\n",
    "\n",
    "        idraw = ImageDraw.Draw(img)\n",
    "        idraw.polygon(rect_vertices, fill='white')\n",
    "\n",
    "        # use a truetype font\n",
    "        #font = imagefont.truetype(\"dejavusans.ttf\", 15)\n",
    "        #font = imagefont.truetype(\"arial.ttf\",14)\n",
    "        #idraw.text((10, 25), '('+ str(rand_x) + ', ' + str(rand_y) +')')\n",
    "        img.save(newpath + '/rect'+str(i)+'.png')\n",
    "    return true_coords\n",
    "\n",
    "train_truth = make_dataset('data1', 1500)\n",
    "print(len(train_truth))\n",
    "test_truth = make_dataset('./data1/test', 300)\n",
    "    \n",
    "class RectDepthImgsDataset(Dataset):\n",
    "    \"\"\"Artificially generated depth images dataset\"\"\"\n",
    "\n",
    "    def __init__(self, img_dir, coords, transform=None):\n",
    "        \"\"\"\n",
    "        \"\"\"\n",
    "        self.img_dir = img_dir\n",
    "        self.true_coords = coords\n",
    "        self.transform = transform\n",
    "\n",
    "    def __len__(self):\n",
    "        #print('true coord len', len(self.true_coords))\n",
    "        return len(self.true_coords)\n",
    "\n",
    "    def __getitem__(self, idx):\n",
    "        # image = self.images[idx]\n",
    "        image = io.imread(self.img_dir + '/rect'+str(idx)+'.png')\n",
    "        image = torch.FloatTensor(image).permute(2, 0, 1) #PIL and torch expect difft orders\n",
    "        coords = torch.FloatTensor(self.true_coords[idx])\n",
    "\n",
    "        if self.transform:\n",
    "            image = self.transform(image)\n",
    "\n",
    "        # sample = {'image': image, 'grasp': str(coords[0]) + str(coords[1])}\n",
    "        sample = {'image': image, 'grasp': coords}\n",
    "        sample = image, coords\n",
    "\n",
    "        return sample"
   ]
  },
  {
   "cell_type": "code",
   "execution_count": 3,
   "metadata": {},
   "outputs": [
    {
     "name": "stdout",
     "output_type": "stream",
     "text": [
      "CUDA available? device:  cuda:0\n"
     ]
    }
   ],
   "source": [
    "# Hyper parameters\n",
    "\n",
    "num_epochs = 100 \n",
    "num_classes = 3 # predicting x,y,orientation\n",
    "learning_rate = 0.001\n",
    "batch_size = 32\n",
    "\n",
    "device = torch.device(\"cuda:0\" if torch.cuda.is_available() else \"cpu\")\n",
    "print(\"CUDA available? device: \", device)\n",
    "\n",
    "# Dataset is depth images of rectangular blocks\n",
    "train_dataset = RectDepthImgsDataset(img_dir='./data1', coords=train_truth)\n",
    "\n",
    "# Data loader\n",
    "train_loader = DataLoader(dataset=train_dataset, batch_size=batch_size,\n",
    "                          shuffle=True)\n",
    "\n",
    "test_dataset = RectDepthImgsDataset(img_dir='./data1/test', coords=test_truth)\n",
    "\n",
    "# Data loader\n",
    "test_loader = DataLoader(dataset=test_dataset, batch_size=batch_size,\n",
    "                          shuffle=True)\n",
    "\n"
   ]
  },
  {
   "cell_type": "code",
   "execution_count": 4,
   "metadata": {
    "scrolled": true
   },
   "outputs": [],
   "source": [
    "class Net(nn.Module):  # CIFAR is 32x32x3, MNIST is 28x28x1)\n",
    "    def __init__(self, IMG_X, IMG_Y):\n",
    "        super(Net, self).__init__()\n",
    "        self._imgx = IMG_X\n",
    "        self._imgy = IMG_Y\n",
    "        _pool = 2\n",
    "        _stride = 5\n",
    "        _outputlayers = 16\n",
    "        \n",
    "        def _calc(val):\n",
    "            layer_size = (val- (_stride-1)) / _pool\n",
    "            return layer_size \n",
    "        \n",
    "        #print(self._imgx)\n",
    "        self._const = _calc(_calc(self._imgx))\n",
    "        self._const *= _calc(_calc(self._imgy))\n",
    "        self._const *= _outputlayers \n",
    "        #print(self._const)\n",
    "        self._const = int(self._const)\n",
    "        \n",
    "        self.conv1 = nn.Conv2d(3, 6, _stride).to(device)\n",
    "        self.pool = nn.MaxPool2d(_pool, _pool).to(device)\n",
    "        self.conv2 = nn.Conv2d(6, _outputlayers, _stride).to(device)\n",
    "        self.fc1 = nn.Linear(self._const, 120).to(device)\n",
    "        self.fc2 = nn.Linear(120, 84).to(device)\n",
    "        self.fc3 = nn.Linear(84, num_classes).to(device)\n",
    "        \n",
    "\n",
    "    def forward(self, x):\n",
    "        #print(x.size())\n",
    "        x = x.to(device)\n",
    "        x = x.view(-1, 3, IMG_X, IMG_Y)\n",
    "        x = self.pool(F.relu(self.conv1(x)))\n",
    "        x = self.pool(F.relu(self.conv2(x)))\n",
    "        x = x.view(-1, self._const)\n",
    "        x = F.relu(self.fc1(x))\n",
    "        x = F.relu(self.fc2(x))\n",
    "        x = self.fc3(x)\n",
    "        return x\n",
    "\n",
    "\n",
    "model = Net(IMG_X, IMG_Y)\n",
    "model = model.to(device)\n",
    "\n",
    "# ONLY FOR DEBUGGING (check if code runs at all)\n",
    "#images = iter(train_loader)\n",
    "##outputs = model(images.next()[0])\n",
    "\n",
    "criterion = nn.MSELoss()\n",
    "optimizer = torch.optim.Adam(model.parameters(), lr=learning_rate)"
   ]
  },
  {
   "cell_type": "code",
   "execution_count": 5,
   "metadata": {
    "scrolled": true
   },
   "outputs": [
    {
     "name": "stdout",
     "output_type": "stream",
     "text": [
      "Training model now...\n",
      "Epoch [1/100], Step [1/47], Loss: 8933.0928\n",
      "Epoch [1/100], Step [26/47], Loss: 120.5259\n",
      "Epoch [2/100], Step [1/47], Loss: 39.7485\n",
      "Epoch [2/100], Step [26/47], Loss: 22.5797\n",
      "Epoch [3/100], Step [1/47], Loss: 13.5950\n",
      "Epoch [3/100], Step [26/47], Loss: 14.7256\n",
      "Epoch [4/100], Step [1/47], Loss: 4.3179\n",
      "Epoch [4/100], Step [26/47], Loss: 9.9432\n",
      "Epoch [5/100], Step [1/47], Loss: 10.6059\n",
      "Epoch [5/100], Step [26/47], Loss: 8.1226\n",
      "Epoch [6/100], Step [1/47], Loss: 5.1220\n",
      "Epoch [6/100], Step [26/47], Loss: 4.1537\n",
      "Epoch [7/100], Step [1/47], Loss: 4.2537\n",
      "Epoch [7/100], Step [26/47], Loss: 3.8543\n",
      "Epoch [8/100], Step [1/47], Loss: 2.7368\n",
      "Epoch [8/100], Step [26/47], Loss: 1.1800\n",
      "Epoch [9/100], Step [1/47], Loss: 3.2932\n",
      "Epoch [9/100], Step [26/47], Loss: 3.4832\n",
      "Epoch [10/100], Step [1/47], Loss: 1.9987\n",
      "Epoch [10/100], Step [26/47], Loss: 6.4644\n",
      "Epoch [11/100], Step [1/47], Loss: 2.6556\n",
      "Epoch [11/100], Step [26/47], Loss: 2.2063\n",
      "Epoch [12/100], Step [1/47], Loss: 2.3909\n",
      "Epoch [12/100], Step [26/47], Loss: 2.2343\n",
      "Epoch [13/100], Step [1/47], Loss: 3.2261\n",
      "Epoch [13/100], Step [26/47], Loss: 5.2124\n",
      "Epoch [14/100], Step [1/47], Loss: 1.9746\n",
      "Epoch [14/100], Step [26/47], Loss: 9.6419\n",
      "Epoch [15/100], Step [1/47], Loss: 9.5962\n",
      "Epoch [15/100], Step [26/47], Loss: 9.5208\n",
      "Epoch [16/100], Step [1/47], Loss: 4.6484\n",
      "Epoch [16/100], Step [26/47], Loss: 7.4809\n",
      "Epoch [17/100], Step [1/47], Loss: 8.7460\n",
      "Epoch [17/100], Step [26/47], Loss: 9.3262\n",
      "Epoch [18/100], Step [1/47], Loss: 7.9459\n",
      "Epoch [18/100], Step [26/47], Loss: 6.4056\n",
      "Epoch [19/100], Step [1/47], Loss: 3.3491\n",
      "Epoch [19/100], Step [26/47], Loss: 5.1856\n",
      "Epoch [20/100], Step [1/47], Loss: 3.7720\n",
      "Epoch [20/100], Step [26/47], Loss: 11.3163\n",
      "Epoch [21/100], Step [1/47], Loss: 6.6829\n",
      "Epoch [21/100], Step [26/47], Loss: 9.2321\n",
      "Epoch [22/100], Step [1/47], Loss: 9.8245\n",
      "Epoch [22/100], Step [26/47], Loss: 3.4515\n",
      "Epoch [23/100], Step [1/47], Loss: 7.8814\n",
      "Epoch [23/100], Step [26/47], Loss: 1.8962\n",
      "Epoch [24/100], Step [1/47], Loss: 2.7625\n",
      "Epoch [24/100], Step [26/47], Loss: 2.9087\n",
      "Epoch [25/100], Step [1/47], Loss: 3.2878\n",
      "Epoch [25/100], Step [26/47], Loss: 2.1659\n",
      "Epoch [26/100], Step [1/47], Loss: 4.2145\n",
      "Epoch [26/100], Step [26/47], Loss: 3.7113\n",
      "Epoch [27/100], Step [1/47], Loss: 8.4470\n",
      "Epoch [27/100], Step [26/47], Loss: 1.2080\n",
      "Epoch [28/100], Step [1/47], Loss: 0.7407\n",
      "Epoch [28/100], Step [26/47], Loss: 0.7672\n",
      "Epoch [29/100], Step [1/47], Loss: 0.4750\n",
      "Epoch [29/100], Step [26/47], Loss: 1.6875\n",
      "Epoch [30/100], Step [1/47], Loss: 0.9229\n",
      "Epoch [30/100], Step [26/47], Loss: 0.9374\n",
      "Epoch [31/100], Step [1/47], Loss: 1.1650\n",
      "Epoch [31/100], Step [26/47], Loss: 1.2500\n",
      "Epoch [32/100], Step [1/47], Loss: 0.7067\n",
      "Epoch [32/100], Step [26/47], Loss: 0.7362\n",
      "Epoch [33/100], Step [1/47], Loss: 1.1975\n",
      "Epoch [33/100], Step [26/47], Loss: 2.7436\n",
      "Epoch [34/100], Step [1/47], Loss: 1.8913\n",
      "Epoch [34/100], Step [26/47], Loss: 3.1370\n",
      "Epoch [35/100], Step [1/47], Loss: 1.6909\n",
      "Epoch [35/100], Step [26/47], Loss: 1.4620\n",
      "Epoch [36/100], Step [1/47], Loss: 1.3591\n",
      "Epoch [36/100], Step [26/47], Loss: 3.9761\n",
      "Epoch [37/100], Step [1/47], Loss: 5.0644\n",
      "Epoch [37/100], Step [26/47], Loss: 4.0344\n",
      "Epoch [38/100], Step [1/47], Loss: 1.5735\n",
      "Epoch [38/100], Step [26/47], Loss: 2.9558\n",
      "Epoch [39/100], Step [1/47], Loss: 2.0596\n",
      "Epoch [39/100], Step [26/47], Loss: 3.7467\n",
      "Epoch [40/100], Step [1/47], Loss: 9.4283\n",
      "Epoch [40/100], Step [26/47], Loss: 5.9790\n",
      "Epoch [41/100], Step [1/47], Loss: 12.2047\n",
      "Epoch [41/100], Step [26/47], Loss: 4.5377\n",
      "Epoch [42/100], Step [1/47], Loss: 18.1660\n",
      "Epoch [42/100], Step [26/47], Loss: 6.3699\n",
      "Epoch [43/100], Step [1/47], Loss: 4.2043\n",
      "Epoch [43/100], Step [26/47], Loss: 5.3916\n",
      "Epoch [44/100], Step [1/47], Loss: 2.3110\n",
      "Epoch [44/100], Step [26/47], Loss: 2.1057\n",
      "Epoch [45/100], Step [1/47], Loss: 7.9217\n",
      "Epoch [45/100], Step [26/47], Loss: 2.8622\n",
      "Epoch [46/100], Step [1/47], Loss: 2.6003\n",
      "Epoch [46/100], Step [26/47], Loss: 2.2816\n",
      "Epoch [47/100], Step [1/47], Loss: 9.3167\n",
      "Epoch [47/100], Step [26/47], Loss: 4.0111\n",
      "Epoch [48/100], Step [1/47], Loss: 2.4495\n",
      "Epoch [48/100], Step [26/47], Loss: 2.2459\n",
      "Epoch [49/100], Step [1/47], Loss: 1.4171\n",
      "Epoch [49/100], Step [26/47], Loss: 1.3852\n",
      "Epoch [50/100], Step [1/47], Loss: 4.2538\n",
      "Epoch [50/100], Step [26/47], Loss: 4.4372\n",
      "Epoch [51/100], Step [1/47], Loss: 2.1317\n",
      "Epoch [51/100], Step [26/47], Loss: 1.6000\n",
      "Epoch [52/100], Step [1/47], Loss: 2.6797\n",
      "Epoch [52/100], Step [26/47], Loss: 1.8129\n",
      "Epoch [53/100], Step [1/47], Loss: 1.2031\n",
      "Epoch [53/100], Step [26/47], Loss: 5.3922\n",
      "Epoch [54/100], Step [1/47], Loss: 2.2726\n",
      "Epoch [54/100], Step [26/47], Loss: 1.5663\n",
      "Epoch [55/100], Step [1/47], Loss: 3.6346\n",
      "Epoch [55/100], Step [26/47], Loss: 1.5039\n",
      "Epoch [56/100], Step [1/47], Loss: 2.4974\n",
      "Epoch [56/100], Step [26/47], Loss: 2.3785\n",
      "Epoch [57/100], Step [1/47], Loss: 3.7838\n",
      "Epoch [57/100], Step [26/47], Loss: 2.9792\n",
      "Epoch [58/100], Step [1/47], Loss: 2.1387\n",
      "Epoch [58/100], Step [26/47], Loss: 3.9935\n",
      "Epoch [59/100], Step [1/47], Loss: 6.0676\n",
      "Epoch [59/100], Step [26/47], Loss: 14.0602\n",
      "Epoch [60/100], Step [1/47], Loss: 2.9707\n",
      "Epoch [60/100], Step [26/47], Loss: 1.9112\n",
      "Epoch [61/100], Step [1/47], Loss: 2.0202\n",
      "Epoch [61/100], Step [26/47], Loss: 1.0942\n",
      "Epoch [62/100], Step [1/47], Loss: 3.8453\n",
      "Epoch [62/100], Step [26/47], Loss: 1.0091\n",
      "Epoch [63/100], Step [1/47], Loss: 1.8612\n",
      "Epoch [63/100], Step [26/47], Loss: 1.2224\n",
      "Epoch [64/100], Step [1/47], Loss: 0.4519\n",
      "Epoch [64/100], Step [26/47], Loss: 0.8165\n",
      "Epoch [65/100], Step [1/47], Loss: 0.5386\n",
      "Epoch [65/100], Step [26/47], Loss: 0.4011\n",
      "Epoch [66/100], Step [1/47], Loss: 0.4866\n",
      "Epoch [66/100], Step [26/47], Loss: 0.2084\n",
      "Epoch [67/100], Step [1/47], Loss: 0.2169\n",
      "Epoch [67/100], Step [26/47], Loss: 0.2345\n",
      "Epoch [68/100], Step [1/47], Loss: 0.2415\n",
      "Epoch [68/100], Step [26/47], Loss: 0.1401\n",
      "Epoch [69/100], Step [1/47], Loss: 0.1363\n",
      "Epoch [69/100], Step [26/47], Loss: 0.1054\n",
      "Epoch [70/100], Step [1/47], Loss: 0.2445\n",
      "Epoch [70/100], Step [26/47], Loss: 0.1313\n",
      "Epoch [71/100], Step [1/47], Loss: 0.0883\n",
      "Epoch [71/100], Step [26/47], Loss: 0.2345\n",
      "Epoch [72/100], Step [1/47], Loss: 0.1120\n",
      "Epoch [72/100], Step [26/47], Loss: 0.0471\n",
      "Epoch [73/100], Step [1/47], Loss: 0.0387\n",
      "Epoch [73/100], Step [26/47], Loss: 0.0366\n",
      "Epoch [74/100], Step [1/47], Loss: 0.0514\n",
      "Epoch [74/100], Step [26/47], Loss: 0.0196\n",
      "Epoch [75/100], Step [1/47], Loss: 0.0168\n",
      "Epoch [75/100], Step [26/47], Loss: 0.0496\n",
      "Epoch [76/100], Step [1/47], Loss: 0.0398\n",
      "Epoch [76/100], Step [26/47], Loss: 0.0703\n",
      "Epoch [77/100], Step [1/47], Loss: 0.1092\n",
      "Epoch [77/100], Step [26/47], Loss: 0.0952\n",
      "Epoch [78/100], Step [1/47], Loss: 0.0814\n",
      "Epoch [78/100], Step [26/47], Loss: 0.1035\n",
      "Epoch [79/100], Step [1/47], Loss: 0.0887\n",
      "Epoch [79/100], Step [26/47], Loss: 0.1338\n",
      "Epoch [80/100], Step [1/47], Loss: 0.0892\n",
      "Epoch [80/100], Step [26/47], Loss: 0.1289\n",
      "Epoch [81/100], Step [1/47], Loss: 0.3226\n",
      "Epoch [81/100], Step [26/47], Loss: 0.2474\n",
      "Epoch [82/100], Step [1/47], Loss: 0.3571\n",
      "Epoch [82/100], Step [26/47], Loss: 0.2271\n",
      "Epoch [83/100], Step [1/47], Loss: 0.3045\n",
      "Epoch [83/100], Step [26/47], Loss: 0.5375\n",
      "Epoch [84/100], Step [1/47], Loss: 0.8612\n",
      "Epoch [84/100], Step [26/47], Loss: 0.6199\n",
      "Epoch [85/100], Step [1/47], Loss: 0.5778\n",
      "Epoch [85/100], Step [26/47], Loss: 0.8232\n",
      "Epoch [86/100], Step [1/47], Loss: 3.6878\n",
      "Epoch [86/100], Step [26/47], Loss: 3.0924\n",
      "Epoch [87/100], Step [1/47], Loss: 1.2038\n",
      "Epoch [87/100], Step [26/47], Loss: 1.0594\n",
      "Epoch [88/100], Step [1/47], Loss: 1.3050\n",
      "Epoch [88/100], Step [26/47], Loss: 2.6955\n",
      "Epoch [89/100], Step [1/47], Loss: 4.3329\n",
      "Epoch [89/100], Step [26/47], Loss: 5.1558\n",
      "Epoch [90/100], Step [1/47], Loss: 4.1622\n",
      "Epoch [90/100], Step [26/47], Loss: 14.9692\n",
      "Epoch [91/100], Step [1/47], Loss: 8.1687\n",
      "Epoch [91/100], Step [26/47], Loss: 6.0903\n",
      "Epoch [92/100], Step [1/47], Loss: 4.4017\n",
      "Epoch [92/100], Step [26/47], Loss: 5.1630\n",
      "Epoch [93/100], Step [1/47], Loss: 2.1854\n",
      "Epoch [93/100], Step [26/47], Loss: 2.9593\n",
      "Epoch [94/100], Step [1/47], Loss: 1.4917\n",
      "Epoch [94/100], Step [26/47], Loss: 1.0628\n",
      "Epoch [95/100], Step [1/47], Loss: 6.5142\n",
      "Epoch [95/100], Step [26/47], Loss: 2.3956\n",
      "Epoch [96/100], Step [1/47], Loss: 1.0744\n",
      "Epoch [96/100], Step [26/47], Loss: 1.4584\n",
      "Epoch [97/100], Step [1/47], Loss: 0.3816\n"
     ]
    },
    {
     "name": "stdout",
     "output_type": "stream",
     "text": [
      "Epoch [97/100], Step [26/47], Loss: 0.3397\n",
      "Epoch [98/100], Step [1/47], Loss: 0.5710\n",
      "Epoch [98/100], Step [26/47], Loss: 0.1860\n",
      "Epoch [99/100], Step [1/47], Loss: 0.8779\n",
      "Epoch [99/100], Step [26/47], Loss: 0.2906\n",
      "Epoch [100/100], Step [1/47], Loss: 0.3556\n",
      "Epoch [100/100], Step [26/47], Loss: 0.1382\n"
     ]
    }
   ],
   "source": [
    "losses_list = []\n",
    "ct = 0\n",
    "print('Training model now...')\n",
    "total_step = len(train_loader)\n",
    "for epoch in range(num_epochs):\n",
    "    for i_batch, (images, labels) in enumerate(train_loader):\n",
    "\n",
    "        images, labels = images.to(device), labels.to(device)\n",
    "        optimizer.zero_grad()\n",
    "        #print('This is batch', i_batch, ' with len images ', len(images))\n",
    "\n",
    "        # Forward pass\n",
    "        outputs = model(images).to(device)\n",
    "        loss = criterion(outputs, labels)\n",
    "\n",
    "        # Backward and optimize\n",
    "        loss.backward()\n",
    "        optimizer.step()\n",
    "\n",
    "        #if (i_batch+1) % 1 == 0:\n",
    "        if (i_batch) % 25 == 0:\n",
    "            print('Epoch [{}/{}], Step [{}/{}], Loss: {:.4f}'.format(epoch+1,\n",
    "                                                                      num_epochs,\n",
    "                                                                      i_batch+1,\n",
    "                                                                      total_step,\n",
    "                                                                      loss.item()))\n",
    "        losses_list.append(loss.item())"
   ]
  },
  {
   "cell_type": "markdown",
   "metadata": {},
   "source": [
    "# evaluate"
   ]
  },
  {
   "cell_type": "code",
   "execution_count": 6,
   "metadata": {},
   "outputs": [
    {
     "data": {
      "text/html": [
       "\n",
       "                <audio controls=\"controls\" autoplay=\"autoplay\">\n",
       "                    <source src=\"data:audio/ogg;base64,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\" type=\"audio/ogg\" />\n",
       "                    Your browser does not support the audio element.\n",
       "                </audio>\n",
       "              "
      ],
      "text/plain": [
       "<IPython.lib.display.Audio object>"
      ]
     },
     "execution_count": 6,
     "metadata": {},
     "output_type": "execute_result"
    }
   ],
   "source": [
    "# alert when training is done\n",
    "sound_file = '/home/rui/Downloads/newyear.ogg'\n",
    "Audio(sound_file, autoplay=True)"
   ]
  },
  {
   "cell_type": "code",
   "execution_count": 14,
   "metadata": {},
   "outputs": [
    {
     "name": "stdout",
     "output_type": "stream",
     "text": [
      "4700\n"
     ]
    },
    {
     "data": {
      "text/plain": [
       "(0, 100)"
      ]
     },
     "execution_count": 14,
     "metadata": {},
     "output_type": "execute_result"
    },
    {
     "data": {
      "image/png": "[encoded data removed]",
      "text/plain": [
       "<Figure size 432x288 with 1 Axes>"
      ]
     },
     "metadata": {
      "needs_background": "light"
     },
     "output_type": "display_data"
    }
   ],
   "source": [
    "plt.plot(range(len(losses_list)), losses_list)\n",
    "print(len(losses_list))\n",
    "plt.xlim([0,2350])\n",
    "plt.ylim([0,100])"
   ]
  },
  {
   "cell_type": "code",
   "execution_count": 15,
   "metadata": {},
   "outputs": [
    {
     "name": "stdout",
     "output_type": "stream",
     "text": [
      "10\n",
      "47\n",
      "10\n",
      "10\n",
      "i_batch 0\n",
      "i_batch 1\n",
      "i_batch 2\n",
      "i_batch 3\n",
      "i_batch 4\n",
      "i_batch 5\n",
      "i_batch 6\n",
      "i_batch 7\n",
      "i_batch 8\n",
      "i_batch 9\n",
      "0\n"
     ]
    }
   ],
   "source": [
    "model.to(device).eval()  \n",
    "# eval mode (batchnorm uses moving mean/variance instead of mini-batch mean/variance)\n",
    "\n",
    "# evaluation: MSE loss of center predictions\n",
    "# evaluation: MSE loss of degree predictions\n",
    "criterion = nn.MSELoss()\n",
    "\n",
    "\n",
    "print(len(test_loader))\n",
    "print(len(train_loader))\n",
    "print(len(test_loader))\n",
    "print(len(test_loader))\n",
    "\n",
    "with torch.no_grad():\n",
    "    total_err = 0\n",
    "    n_total = 0\n",
    "    for i_batch, (images, labels) in enumerate(test_loader):\n",
    "    #for i_batch, (images, labels) in enumerate(train_loader):\n",
    "        print('i_batch', i_batch)\n",
    "        images = images.to(device)\n",
    "        labels = labels.to(device)\n",
    "        outputs = model(images).to(device)\n",
    "        diff = outputs - labels\n",
    "        diff = torch.sum(diff, 0) #column sum\n",
    "        total_err += diff\n",
    "        #loss = criterion(outputs, labels)\n",
    "        #print(loss)\n",
    "        #x, y, orient = outputs.squeeze() # remove extra dim, so not nested list of list\n",
    "        #true_x, true_y, true_orient = labels.squeeze()\n",
    "        #xy_err +=criterion( torch.Tensor([x,y]), torch.Tensor([true_x, true_y]))\n",
    "        #orient_err += criterion(orient, true_orient)\n",
    "        #print(n_total)\n",
    "        #n_total += 1\n",
    "        #_, predicted = torch.max(outputs.data, 1)\n",
    "        #total += labels.size(0)\n",
    "        #correct += (predicted == labels).sum().item()\n",
    "print(n_total * batch_size)"
   ]
  },
  {
   "cell_type": "code",
   "execution_count": 16,
   "metadata": {},
   "outputs": [
    {
     "name": "stdout",
     "output_type": "stream",
     "text": [
      "300\n"
     ]
    },
    {
     "data": {
      "image/png": "[encoded data removed]",
      "text/plain": [
       "<PIL.Image.Image image mode=RGB size=200x200 at 0x7FAFFF791CF8>"
      ]
     },
     "metadata": {},
     "output_type": "display_data"
    },
    {
     "name": "stdout",
     "output_type": "stream",
     "text": [
      "tensor([ 24.1714, -94.1190,  66.3231], device='cuda:0')\n",
      "tensor([ 0.0806, -0.3137,  0.2211], device='cuda:0')\n",
      "\n",
      " ----------------------------\n",
      "Across a total of 300 images, the average error was 0.08 and -0.31 pixels for x and y, and 12.67 degrees for orientation\n",
      "\n",
      " ----------------------------\n"
     ]
    }
   ],
   "source": [
    "n_total = len(test_loader.dataset)\n",
    "\n",
    "print(n_total)\n",
    "from IPython.display import display # to display images\n",
    "\n",
    "import torchvision\n",
    "img = torchvision.transforms.ToPILImage()(images[0].cpu())\n",
    "display(img)\n",
    "\n",
    "avg_err = total_err / n_total \n",
    "print(total_err)\n",
    "print(avg_err)\n",
    "xerr, yerr, orienterr = avg_err\n",
    "print('\\n ----------------------------')\n",
    "print('Across a total of %d images, the average error was %0.2f and %0.2f pixels for x and y, \\\n",
    "and %0.2f degrees for orientation' % (n_total, xerr, yerr, math.degrees(orienterr)))\n",
    "print('\\n ----------------------------')"
   ]
  },
  {
   "cell_type": "markdown",
   "metadata": {},
   "source": [
    "# diagnostics"
   ]
  },
  {
   "cell_type": "code",
   "execution_count": 17,
   "metadata": {
    "scrolled": true
   },
   "outputs": [],
   "source": [
    "from IPython.display import display # to display images\n",
    "#font = ImageFont.truetype(\"Arial.ttf\",14) # OSError: cannot open resource\n",
    "font = ImageFont.truetype(\"/usr/share/fonts/dejavu/DejaVuSans.ttf\",14)\n",
    "def imshow_coord(img, a_label):\n",
    "    img = torchvision.transforms.ToPILImage()(img)\n",
    "    draw = ImageDraw.Draw(img)\n",
    "    #draw.text((10, 25), '(' + np.array2string(np.around(a_label.numpy()), separator=', ') + ')')\n",
    "    x,y,orient = a_label\n",
    "    rect_vertices = makeRectangle(5, 15, orient, offset=(x,y))\n",
    "    draw.polygon(rect_vertices, fill='red')\n",
    "    draw = draw_crosspointer(a_label, draw, 'green', 'white', length=8)\n",
    "    display(img)\n",
    "    \n",
    "def draw_crosspointer(xy, draw, fillcolor_X='green', fillcolor='white', length=2):\n",
    "    a,b, orient = tuple(xy)\n",
    "    draw.line((a-length, b+length, a+length, b-length), fill=fillcolor_X)\n",
    "    draw.line((a-length, b-length, a+length, b+length), fill=fillcolor_X)\n",
    "    draw.point((a,b))\n",
    "    return draw"
   ]
  },
  {
   "cell_type": "code",
   "execution_count": 40,
   "metadata": {
    "scrolled": false
   },
   "outputs": [
    {
     "name": "stdout",
     "output_type": "stream",
     "text": [
      "x,y truth tensor([179.0000,  80.0000,   1.0472])\n",
      "x,y guess by net tensor([179.5202,  79.1828,   1.5876], device='cuda:0')\n",
      "image size:  torch.Size([3, 200, 200])\n",
      "tensor(0.1539, device='cuda:0')\n",
      "net output: \n"
     ]
    },
    {
     "data": {
      "image/png": "[encoded data removed]",
      "text/plain": [
       "<PIL.Image.Image image mode=RGB size=200x200 at 0x7FAFFF7445C0>"
      ]
     },
     "metadata": {},
     "output_type": "display_data"
    },
    {
     "name": "stdout",
     "output_type": "stream",
     "text": [
      "truth label: \n"
     ]
    },
    {
     "data": {
      "image/png": "[encoded data removed]",
      "text/plain": [
       "<PIL.Image.Image image mode=RGB size=200x200 at 0x7FAFFF7449B0>"
      ]
     },
     "metadata": {},
     "output_type": "display_data"
    }
   ],
   "source": [
    "import torchvision \n",
    "import matplotlib.pyplot as plt\n",
    "import copy\n",
    "# get some random training images\n",
    "with torch.no_grad():\n",
    "    dataiter = iter(train_loader)\n",
    "    images, labels = dataiter.next()\n",
    "    outputs = model(images)\n",
    "    \n",
    "    # show images\n",
    "    #imshow_coord(torchvision.utils.make_grid(images), (outputs))\n",
    "\n",
    "\n",
    "    # print('Predicted: ', ' '.join('%5s' % classes[predicted[j]]\n",
    "                                  # for j in range(4)))\n",
    "        \n",
    "    loss = criterion(outputs.to(device), labels.to(device))\n",
    " \n",
    "n =0 \n",
    "#print(len(labels))\n",
    "print('x,y truth', labels[n])\n",
    "print('x,y guess by net', outputs[n])\n",
    "\n",
    "images_copy = copy.deepcopy(images)\n",
    "print('image size: ', images_copy[n].size())\n",
    "print(loss)\n",
    "print('net output: ')\n",
    "imshow_coord(images_copy[n], outputs[n])\n",
    "print('truth label: ')\n",
    "imshow_coord(images_copy[n], labels[n])\n",
    "\n",
    "#imagePIL = torchvision.transforms.ToPILImage()(images[n])\n",
    "#print('PIL image size', imagePIL.size)\n",
    "#imagePIL.save('test.png')\n",
    "#display(imagePIL)\n",
    "\n",
    "#display(Image.open('./data/rect'+str(n)+'.png'))"
   ]
  },
  {
   "cell_type": "code",
   "execution_count": 33,
   "metadata": {},
   "outputs": [
    {
     "ename": "NameError",
     "evalue": "name 'true_coords' is not defined",
     "output_type": "error",
     "traceback": [
      "\u001b[0;31m---------------------------------------------------------------------------\u001b[0m",
      "\u001b[0;31mNameError\u001b[0m                                 Traceback (most recent call last)",
      "\u001b[0;32m<ipython-input-33-9571209a06c2>\u001b[0m in \u001b[0;36m<module>\u001b[0;34m\u001b[0m\n\u001b[1;32m      7\u001b[0m \u001b[0mimage\u001b[0m \u001b[0;34m=\u001b[0m \u001b[0mio\u001b[0m\u001b[0;34m.\u001b[0m\u001b[0mimread\u001b[0m\u001b[0;34m(\u001b[0m\u001b[0;34m'./data/rect'\u001b[0m\u001b[0;34m+\u001b[0m\u001b[0mstr\u001b[0m\u001b[0;34m(\u001b[0m\u001b[0mn\u001b[0m\u001b[0;34m)\u001b[0m\u001b[0;34m+\u001b[0m\u001b[0;34m'.png'\u001b[0m\u001b[0;34m)\u001b[0m\u001b[0;34m\u001b[0m\u001b[0;34m\u001b[0m\u001b[0m\n\u001b[1;32m      8\u001b[0m \u001b[0mimage_tensor\u001b[0m \u001b[0;34m=\u001b[0m \u001b[0mtorch\u001b[0m\u001b[0;34m.\u001b[0m\u001b[0mFloatTensor\u001b[0m\u001b[0;34m(\u001b[0m\u001b[0mimage\u001b[0m\u001b[0;34m)\u001b[0m\u001b[0;34m.\u001b[0m\u001b[0mpermute\u001b[0m\u001b[0;34m(\u001b[0m\u001b[0;36m2\u001b[0m\u001b[0;34m,\u001b[0m \u001b[0;36m0\u001b[0m\u001b[0;34m,\u001b[0m \u001b[0;36m1\u001b[0m\u001b[0;34m)\u001b[0m \u001b[0;31m#PIL and torch expect difft orders\u001b[0m\u001b[0;34m\u001b[0m\u001b[0;34m\u001b[0m\u001b[0m\n\u001b[0;32m----> 9\u001b[0;31m \u001b[0mcoords\u001b[0m \u001b[0;34m=\u001b[0m \u001b[0mtorch\u001b[0m\u001b[0;34m.\u001b[0m\u001b[0mFloatTensor\u001b[0m\u001b[0;34m(\u001b[0m\u001b[0mtrue_coords\u001b[0m\u001b[0;34m[\u001b[0m\u001b[0mn\u001b[0m\u001b[0;34m]\u001b[0m\u001b[0;34m)\u001b[0m\u001b[0;34m\u001b[0m\u001b[0;34m\u001b[0m\u001b[0m\n\u001b[0m\u001b[1;32m     10\u001b[0m \u001b[0;32mwith\u001b[0m \u001b[0mtorch\u001b[0m\u001b[0;34m.\u001b[0m\u001b[0mno_grad\u001b[0m\u001b[0;34m(\u001b[0m\u001b[0;34m)\u001b[0m\u001b[0;34m:\u001b[0m\u001b[0;34m\u001b[0m\u001b[0;34m\u001b[0m\u001b[0m\n\u001b[1;32m     11\u001b[0m     \u001b[0moutput\u001b[0m \u001b[0;34m=\u001b[0m \u001b[0mmodel\u001b[0m\u001b[0;34m(\u001b[0m\u001b[0mimage_tensor\u001b[0m\u001b[0;34m)\u001b[0m\u001b[0;34m\u001b[0m\u001b[0;34m\u001b[0m\u001b[0m\n",
      "\u001b[0;31mNameError\u001b[0m: name 'true_coords' is not defined"
     ]
    }
   ],
   "source": [
    "%matplotlib inline\n",
    "#im = Image.open(\"Mew.jpg\")\n",
    "n = 12\n",
    "n = np.random.rand()*len(images)\n",
    "n = int(n)\n",
    "\n",
    "image = io.imread('./data/rect'+str(n)+'.png')\n",
    "image_tensor = torch.FloatTensor(image).permute(2, 0, 1) #PIL and torch expect difft orders\n",
    "coords = torch.FloatTensor(true_coords[n])\n",
    "with torch.no_grad():\n",
    "    output = model(image_tensor)\n",
    "\n",
    "print(true_coords[n])\n",
    "print(output)\n",
    "x,y,orient = output.cpu().numpy().flatten()\n",
    "imshow_coord(image, (x,y, orient))\n",
    "plt.imshow(image)"
   ]
  },
  {
   "cell_type": "code",
   "execution_count": null,
   "metadata": {
    "scrolled": false
   },
   "outputs": [],
   "source": [
    "#img = Image.new('RGB', (300,400), 'gray')\n",
    "import seaborn as sns\n",
    "sns.set_style(\"ticks\")\n",
    "n = 0\n",
    "#imshow_coord(images[n], outputs[n], labels[n])\n",
    "\n",
    "print(images.size())\n",
    "a = torchvision.utils.make_grid(images)\n",
    "print(a.max(), a.min(), a.size())\n",
    "#a = a / 2 + 0.5     # unnormalize\n",
    "\n",
    "a = a.cpu().numpy()\n",
    "a = np.transpose(a,(1,2,0))\n",
    "print(a.shape)\n",
    "print(a.ndim)\n",
    "\n",
    "#ran = a.max() - a.min()\n",
    "#a = (a/ran )\n",
    "\n",
    "fig,ax = plt.subplots(1)\n",
    "# Display the image\n",
    "ax.imshow(a)\n",
    "#x,y = labels[0].numpy()\n",
    "#plt.scatter(x,y, color='g', marker='x', linewidth='1')\n",
    "labels = labels.cpu()\n",
    "\n",
    "plt.rcParams['figure.figsize'] = [30,5]\n",
    "import matplotlib.patches as patches\n",
    "for i in range(len(labels)):\n",
    "    x,y, orient = labels[i].numpy()\n",
    "\n",
    "# class matplotlib.patches.Rectangle(xy, width, height, angle=0.0, **kwargs)[source]\n",
    "\n",
    "    rect = patches.Rectangle((x + i*IMG_X, y), 1,20,angle=orient, fill=True, color='orange')\n",
    "    ax.add_patch(rect)\n",
    "    ax.scatter(x + i*IMG_X, y, color='r', marker='x', linewidth='1')\n",
    "#plt.imshow(np.transpose(a, (2,0,1)))"
   ]
  },
  {
   "cell_type": "code",
   "execution_count": null,
   "metadata": {},
   "outputs": [],
   "source": [
    "import seaborn as sns\n",
    "sns.set()\n",
    "f = plt.subplot()\n",
    "f.plot(range(len(losses_list)), losses_list)\n",
    "\n",
    "plt.rcParams['figure.figsize'] = [30, 5]\n",
    "xposition = np.array(range(num_epoch))  * (total_step)\n",
    "#print(xposition)\n",
    "for xc in xposition:\n",
    "    #plt.axvline(x=xc, color='k', linestyle='--')\n",
    "    pass\n",
    "    \n"
   ]
  },
  {
   "cell_type": "code",
   "execution_count": null,
   "metadata": {
    "scrolled": true
   },
   "outputs": [],
   "source": [
    "g = plt.subplot()\n",
    "trunc = 100\n",
    "g.plot(range(trunc), losses_list[-trunc:])\n",
    "\n",
    "plt.show()"
   ]
  },
  {
   "cell_type": "markdown",
   "metadata": {},
   "source": [
    "# Don't run the following cell (takes long time)"
   ]
  },
  {
   "cell_type": "code",
   "execution_count": null,
   "metadata": {},
   "outputs": [],
   "source": [
    "num_epochs = [10,20,50,70,100,150] \n",
    "num_classes = 3 # predicting x,y,orientation\n",
    "batch_size = 5 \n",
    "learning_rates = [0.001, 0.005, 0.01, 0.1]\n",
    "\n",
    "meta_losses_list = []\n",
    "for i in range(len(num_epochs)):\n",
    "    num_epoch = num_epochs[i]\n",
    "    learning_rate = learning_rates[0]\n",
    "    losses_list = []\n",
    "    print('Training model now... with: %d num_epoch and %d learning rate' % (num_epoch, learning_rate))\n",
    "    \n",
    "    total_step = len(train_loader)\n",
    "    for epoch in range(num_epoch):\n",
    "        for i_batch, (images, labels) in enumerate(train_loader):\n",
    "\n",
    "            images, labels = images.to(device), labels.to(device)\n",
    "            optimizer.zero_grad()\n",
    "\n",
    "            # Forward pass\n",
    "            outputs = model(images)\n",
    "            # magnify orientation loss\n",
    "            outputs[2] *= 10\n",
    "            labels[2] *= 10\n",
    "            loss = criterion(outputs, labels)\n",
    "\n",
    "            # Backward and optimize\n",
    "            loss.backward()\n",
    "            optimizer.step()\n",
    "\n",
    "            if (i_batch+1) % 1 == 0:\n",
    "                print('Epoch [{}/{}], Step [{}/{}], Loss: {:.4f}'.format(epoch+1,\n",
    "                                                                          num_epochs,\n",
    "                                                                          i_batch+1,\n",
    "                                                                          total_step,\n",
    "                                                                          loss.item()))\n",
    "                losses_list.append(loss.item())\n",
    "    meta_losses_list.append(losses_list)"
   ]
  },
  {
   "cell_type": "code",
   "execution_count": null,
   "metadata": {},
   "outputs": [],
   "source": [
    "fig = plt.subplots()\n",
    "trunc = 100\n",
    "for l in meta_losses_list:\n",
    "    plt.plot(range(len(l[-trunc:])), l[-trunc:])\n",
    "plt.legend()\n",
    "plt.show()"
   ]
  },
  {
   "cell_type": "code",
   "execution_count": null,
   "metadata": {},
   "outputs": [],
   "source": []
  }
 ],
 "metadata": {
  "kernelspec": {
   "display_name": "Python 3",
   "language": "python",
   "name": "python3"
  },
  "language_info": {
   "codemirror_mode": {
    "name": "ipython",
    "version": 3
   },
   "file_extension": ".py",
   "mimetype": "text/x-python",
   "name": "python",
   "nbconvert_exporter": "python",
   "pygments_lexer": "ipython3",
   "version": "3.6.6"
  }
 },
 "nbformat": 4,
 "nbformat_minor": 2
}
