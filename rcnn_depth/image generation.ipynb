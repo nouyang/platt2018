{
 "cells": [
  {
   "cell_type": "code",
   "execution_count": 32,
   "metadata": {
    "scrolled": true
   },
   "outputs": [],
   "source": [
    "from PIL import Image, ImageDraw, ImageFont\n",
    "%matplotlib inline"
   ]
  },
  {
   "cell_type": "code",
   "execution_count": null,
   "metadata": {},
   "outputs": [],
   "source": []
  },
  {
   "cell_type": "code",
   "execution_count": 42,
   "metadata": {
    "scrolled": true
   },
   "outputs": [],
   "source": [
    "import numpy as np\n",
    "\n",
    "import torch\n",
    "import torch.nn as nn\n",
    "from skimage import io\n",
    "import math\n",
    "\n",
    "from torch.utils.data import Dataset, DataLoader\n",
    "import torch.nn.functional as F\n",
    "\n",
    "IMG_X, IMG_Y = 300, 400\n",
    "# length and width of blocks (fixed for now)\n",
    "block_l, block_w = 25, 25\n",
    "num_images = 50\n",
    "\n",
    "# img_list = []\n",
    "true_coords = []\n",
    "\n",
    "\n",
    "# Calc rectangle vertices. makeRectangle() credit Sparkler, stackoverflow, feb 17\n",
    "def makeRectangle(l, w, theta, offset=(0, 0)):\n",
    "    c, s = math.cos(theta), math.sin(theta)\n",
    "    rectCoords = [(l/2.0, w/2.0), (l/2.0, -w/2.0), (-l/2.0, -w/2.0), (-l/2.0, w/2.0)]\n",
    "    return [(c*x-s*y+offset[0], s*x+c*y+offset[1]) for (x, y) in rectCoords]\n",
    "\n",
    "\n",
    "# ---- Make depth images ---\n",
    "for i in range(num_images):\n",
    "    orient = 0 # degrees\n",
    "    img = Image.new('RGB', (IMG_X, IMG_Y), 'black')\n",
    "\n",
    "    # block_l and _w offset so blocks don't run off edge of image\n",
    "    rand_x = int(np.random.rand() * (IMG_X-block_l))\n",
    "    rand_y = int(np.random.rand() * (IMG_Y-block_w))\n",
    "\n",
    "    true_coords.append(np.array((rand_x, rand_y)))\n",
    "\n",
    "    rect_vertices = makeRectangle(block_l, block_w, orient, offset=(rand_x,\n",
    "                                                                    rand_y))\n",
    "    idraw = ImageDraw.Draw(img)\n",
    "    idraw.polygon(rect_vertices, fill='white')\n",
    "\n",
    "    # use a truetype font\n",
    "    #font = ImageFont.truetype(\"DejavuSans.ttf\", 15)\n",
    "    #font = ImageFont.truetype(\"Arial.ttf\",14)\n",
    "    #idraw.text((10, 25), '('+ str(rand_x) + ', ' + str(rand_y) +')')\n",
    "\n",
    "\n",
    "    img.save('./data/rect'+str(i)+'.png')\n",
    "\n",
    "\n",
    "    \n",
    "class RectDepthImgsDataset(Dataset):\n",
    "    \"\"\"Artificially generated depth images dataset\"\"\"\n",
    "\n",
    "    def __init__(self, img_dir, coords, transform=None):\n",
    "        \"\"\"\n",
    "        \"\"\"\n",
    "        self.img_dir = img_dir\n",
    "        self.true_coords = coords\n",
    "        self.transform = transform\n",
    "\n",
    "    def __len__(self):\n",
    "        return len(self.true_coords)\n",
    "\n",
    "    def __getitem__(self, idx):\n",
    "        # image = self.images[idx]\n",
    "        image = io.imread(self.img_dir + '/rect'+str(idx)+'.png')\n",
    "        image = torch.FloatTensor(image).permute(2, 0, 1) #PIL and torch expect difft orders\n",
    "        coords = torch.FloatTensor(true_coords[idx])\n",
    "\n",
    "        if self.transform:\n",
    "            image = self.transform(image)\n",
    "\n",
    "        # sample = {'image': image, 'grasp': str(coords[0]) + str(coords[1])}\n",
    "        sample = {'image': image, 'grasp': coords}\n",
    "        sample = image, coords\n",
    "\n",
    "        return sample"
   ]
  },
  {
   "cell_type": "code",
   "execution_count": 43,
   "metadata": {
    "scrolled": true
   },
   "outputs": [],
   "source": [
    "# Hyper parameters\n",
    "num_epochs = 35 \n",
    "num_classes = 2\n",
    "batch_size = 10\n",
    "learning_rate = 0.001\n",
    "\n",
    "# Dataset is depth images of rectangular blocks\n",
    "train_dataset = RectDepthImgsDataset(img_dir='./data', coords=true_coords)\n",
    "\n",
    "# Data loader\n",
    "train_loader = DataLoader(dataset=train_dataset, batch_size=batch_size,\n",
    "                          shuffle=True)\n",
    "\n",
    "const = 16*97*72\n",
    "\n",
    "\n",
    "class Net(nn.Module):  # CIFAR is 32x32x3, MNIST is 28x28x1)\n",
    "    def __init__(self):\n",
    "        super(Net, self).__init__()\n",
    "        self.conv1 = nn.Conv2d(3, 6, 5)\n",
    "        self.pool = nn.MaxPool2d(2, 2)\n",
    "        self.conv2 = nn.Conv2d(6, 16, 5)\n",
    "        # self.fc1 = nn.Linear(16 * 5 * 5, 120)\n",
    "        self.fc1 = nn.Linear(const, 120)\n",
    "        self.fc2 = nn.Linear(120, 84)\n",
    "        self.fc3 = nn.Linear(84, num_classes)\n",
    "\n",
    "    def forward(self, x):\n",
    "        x = x.view(-1, 3, 400, 300)\n",
    "        x = self.pool(F.relu(self.conv1(x)))\n",
    "        x = self.pool(F.relu(self.conv2(x)))\n",
    "        x = x.view(-1, const)\n",
    "        x = F.relu(self.fc1(x))\n",
    "        x = F.relu(self.fc2(x))\n",
    "        x = self.fc3(x)\n",
    "        return x\n",
    "\n",
    "\n",
    "model = Net()\n",
    "\n",
    "criterion = nn.MSELoss()\n",
    "optimizer = torch.optim.Adam(model.parameters(), lr=learning_rate)"
   ]
  },
  {
   "cell_type": "code",
   "execution_count": 44,
   "metadata": {
    "scrolled": true
   },
   "outputs": [
    {
     "name": "stdout",
     "output_type": "stream",
     "text": [
      "Training model now...\n",
      "Epoch [1/35], Step [1/5], Loss: 31865.7852\n",
      "Epoch [1/35], Step [2/5], Loss: 24503.2715\n",
      "Epoch [1/35], Step [3/5], Loss: 23115.9160\n",
      "Epoch [1/35], Step [4/5], Loss: 26240.4609\n",
      "Epoch [1/35], Step [5/5], Loss: 29449.6465\n",
      "Epoch [2/35], Step [1/5], Loss: 8246.0332\n",
      "Epoch [2/35], Step [2/5], Loss: 13452.0244\n",
      "Epoch [2/35], Step [3/5], Loss: 4255.1592\n",
      "Epoch [2/35], Step [4/5], Loss: 7020.5352\n",
      "Epoch [2/35], Step [5/5], Loss: 14358.9551\n",
      "Epoch [3/35], Step [1/5], Loss: 4867.4443\n",
      "Epoch [3/35], Step [2/5], Loss: 3885.5684\n",
      "Epoch [3/35], Step [3/5], Loss: 1988.8433\n",
      "Epoch [3/35], Step [4/5], Loss: 6469.7471\n",
      "Epoch [3/35], Step [5/5], Loss: 5224.8535\n",
      "Epoch [4/35], Step [1/5], Loss: 5343.7568\n",
      "Epoch [4/35], Step [2/5], Loss: 5311.8833\n",
      "Epoch [4/35], Step [3/5], Loss: 5229.7847\n",
      "Epoch [4/35], Step [4/5], Loss: 4639.0986\n",
      "Epoch [4/35], Step [5/5], Loss: 5386.0947\n",
      "Epoch [5/35], Step [1/5], Loss: 2045.7527\n",
      "Epoch [5/35], Step [2/5], Loss: 1245.0614\n",
      "Epoch [5/35], Step [3/5], Loss: 3539.7554\n",
      "Epoch [5/35], Step [4/5], Loss: 3034.9705\n",
      "Epoch [5/35], Step [5/5], Loss: 4443.2515\n",
      "Epoch [6/35], Step [1/5], Loss: 854.4388\n",
      "Epoch [6/35], Step [2/5], Loss: 1316.9373\n",
      "Epoch [6/35], Step [3/5], Loss: 1854.0596\n",
      "Epoch [6/35], Step [4/5], Loss: 494.0562\n",
      "Epoch [6/35], Step [5/5], Loss: 950.4551\n",
      "Epoch [7/35], Step [1/5], Loss: 1583.3461\n",
      "Epoch [7/35], Step [2/5], Loss: 1235.6136\n",
      "Epoch [7/35], Step [3/5], Loss: 1286.9680\n",
      "Epoch [7/35], Step [4/5], Loss: 546.3549\n",
      "Epoch [7/35], Step [5/5], Loss: 769.5959\n",
      "Epoch [8/35], Step [1/5], Loss: 377.3289\n",
      "Epoch [8/35], Step [2/5], Loss: 311.2166\n",
      "Epoch [8/35], Step [3/5], Loss: 498.4444\n",
      "Epoch [8/35], Step [4/5], Loss: 566.8727\n",
      "Epoch [8/35], Step [5/5], Loss: 886.7910\n",
      "Epoch [9/35], Step [1/5], Loss: 308.5164\n",
      "Epoch [9/35], Step [2/5], Loss: 264.3731\n",
      "Epoch [9/35], Step [3/5], Loss: 437.2801\n",
      "Epoch [9/35], Step [4/5], Loss: 118.5543\n",
      "Epoch [9/35], Step [5/5], Loss: 447.4707\n",
      "Epoch [10/35], Step [1/5], Loss: 412.8325\n",
      "Epoch [10/35], Step [2/5], Loss: 370.9893\n",
      "Epoch [10/35], Step [3/5], Loss: 159.7677\n",
      "Epoch [10/35], Step [4/5], Loss: 171.5848\n",
      "Epoch [10/35], Step [5/5], Loss: 303.8600\n",
      "Epoch [11/35], Step [1/5], Loss: 96.4746\n",
      "Epoch [11/35], Step [2/5], Loss: 113.7680\n",
      "Epoch [11/35], Step [3/5], Loss: 191.0439\n",
      "Epoch [11/35], Step [4/5], Loss: 196.3135\n",
      "Epoch [11/35], Step [5/5], Loss: 202.1194\n",
      "Epoch [12/35], Step [1/5], Loss: 133.7345\n",
      "Epoch [12/35], Step [2/5], Loss: 33.3347\n",
      "Epoch [12/35], Step [3/5], Loss: 73.8742\n",
      "Epoch [12/35], Step [4/5], Loss: 38.4286\n",
      "Epoch [12/35], Step [5/5], Loss: 98.6984\n",
      "Epoch [13/35], Step [1/5], Loss: 70.1870\n",
      "Epoch [13/35], Step [2/5], Loss: 39.9795\n",
      "Epoch [13/35], Step [3/5], Loss: 61.4299\n",
      "Epoch [13/35], Step [4/5], Loss: 55.9645\n",
      "Epoch [13/35], Step [5/5], Loss: 58.8083\n",
      "Epoch [14/35], Step [1/5], Loss: 67.1472\n",
      "Epoch [14/35], Step [2/5], Loss: 40.7317\n",
      "Epoch [14/35], Step [3/5], Loss: 63.9287\n",
      "Epoch [14/35], Step [4/5], Loss: 65.1769\n",
      "Epoch [14/35], Step [5/5], Loss: 35.0771\n",
      "Epoch [15/35], Step [1/5], Loss: 53.9302\n",
      "Epoch [15/35], Step [2/5], Loss: 10.4098\n",
      "Epoch [15/35], Step [3/5], Loss: 41.1855\n",
      "Epoch [15/35], Step [4/5], Loss: 19.1693\n",
      "Epoch [15/35], Step [5/5], Loss: 34.8513\n",
      "Epoch [16/35], Step [1/5], Loss: 19.0517\n",
      "Epoch [16/35], Step [2/5], Loss: 20.6164\n",
      "Epoch [16/35], Step [3/5], Loss: 6.6002\n",
      "Epoch [16/35], Step [4/5], Loss: 25.2281\n",
      "Epoch [16/35], Step [5/5], Loss: 11.7932\n",
      "Epoch [17/35], Step [1/5], Loss: 25.3919\n",
      "Epoch [17/35], Step [2/5], Loss: 14.7954\n",
      "Epoch [17/35], Step [3/5], Loss: 13.9400\n",
      "Epoch [17/35], Step [4/5], Loss: 9.0097\n",
      "Epoch [17/35], Step [5/5], Loss: 10.6184\n",
      "Epoch [18/35], Step [1/5], Loss: 12.1028\n",
      "Epoch [18/35], Step [2/5], Loss: 20.6981\n",
      "Epoch [18/35], Step [3/5], Loss: 7.2242\n",
      "Epoch [18/35], Step [4/5], Loss: 4.5401\n",
      "Epoch [18/35], Step [5/5], Loss: 9.8474\n",
      "Epoch [19/35], Step [1/5], Loss: 1.2730\n",
      "Epoch [19/35], Step [2/5], Loss: 4.0273\n",
      "Epoch [19/35], Step [3/5], Loss: 8.5371\n",
      "Epoch [19/35], Step [4/5], Loss: 11.9009\n",
      "Epoch [19/35], Step [5/5], Loss: 4.2336\n",
      "Epoch [20/35], Step [1/5], Loss: 2.1041\n",
      "Epoch [20/35], Step [2/5], Loss: 3.8455\n",
      "Epoch [20/35], Step [3/5], Loss: 5.0431\n",
      "Epoch [20/35], Step [4/5], Loss: 12.0153\n",
      "Epoch [20/35], Step [5/5], Loss: 8.3133\n",
      "Epoch [21/35], Step [1/5], Loss: 2.4771\n",
      "Epoch [21/35], Step [2/5], Loss: 2.9244\n",
      "Epoch [21/35], Step [3/5], Loss: 2.7213\n",
      "Epoch [21/35], Step [4/5], Loss: 4.7199\n",
      "Epoch [21/35], Step [5/5], Loss: 9.7880\n",
      "Epoch [22/35], Step [1/5], Loss: 2.1414\n",
      "Epoch [22/35], Step [2/5], Loss: 1.3971\n",
      "Epoch [22/35], Step [3/5], Loss: 1.2038\n",
      "Epoch [22/35], Step [4/5], Loss: 4.4750\n",
      "Epoch [22/35], Step [5/5], Loss: 4.1911\n",
      "Epoch [23/35], Step [1/5], Loss: 2.3284\n",
      "Epoch [23/35], Step [2/5], Loss: 1.6672\n",
      "Epoch [23/35], Step [3/5], Loss: 0.6265\n",
      "Epoch [23/35], Step [4/5], Loss: 3.9251\n",
      "Epoch [23/35], Step [5/5], Loss: 2.4962\n",
      "Epoch [24/35], Step [1/5], Loss: 1.1504\n",
      "Epoch [24/35], Step [2/5], Loss: 0.7911\n",
      "Epoch [24/35], Step [3/5], Loss: 1.1339\n",
      "Epoch [24/35], Step [4/5], Loss: 0.5223\n",
      "Epoch [24/35], Step [5/5], Loss: 1.1119\n",
      "Epoch [25/35], Step [1/5], Loss: 1.8274\n",
      "Epoch [25/35], Step [2/5], Loss: 2.0713\n",
      "Epoch [25/35], Step [3/5], Loss: 2.7952\n",
      "Epoch [25/35], Step [4/5], Loss: 0.6030\n",
      "Epoch [25/35], Step [5/5], Loss: 1.6179\n",
      "Epoch [26/35], Step [1/5], Loss: 1.8306\n",
      "Epoch [26/35], Step [2/5], Loss: 1.2006\n",
      "Epoch [26/35], Step [3/5], Loss: 2.7605\n",
      "Epoch [26/35], Step [4/5], Loss: 0.7092\n",
      "Epoch [26/35], Step [5/5], Loss: 0.3355\n",
      "Epoch [27/35], Step [1/5], Loss: 0.5540\n",
      "Epoch [27/35], Step [2/5], Loss: 2.0829\n",
      "Epoch [27/35], Step [3/5], Loss: 1.7635\n",
      "Epoch [27/35], Step [4/5], Loss: 0.6696\n",
      "Epoch [27/35], Step [5/5], Loss: 1.2065\n",
      "Epoch [28/35], Step [1/5], Loss: 0.4325\n",
      "Epoch [28/35], Step [2/5], Loss: 1.2844\n",
      "Epoch [28/35], Step [3/5], Loss: 1.3609\n",
      "Epoch [28/35], Step [4/5], Loss: 0.9828\n",
      "Epoch [28/35], Step [5/5], Loss: 1.0568\n",
      "Epoch [29/35], Step [1/5], Loss: 0.4803\n",
      "Epoch [29/35], Step [2/5], Loss: 1.2231\n",
      "Epoch [29/35], Step [3/5], Loss: 1.0460\n",
      "Epoch [29/35], Step [4/5], Loss: 1.8749\n",
      "Epoch [29/35], Step [5/5], Loss: 0.9998\n",
      "Epoch [30/35], Step [1/5], Loss: 0.2972\n",
      "Epoch [30/35], Step [2/5], Loss: 0.6024\n",
      "Epoch [30/35], Step [3/5], Loss: 0.8439\n",
      "Epoch [30/35], Step [4/5], Loss: 1.7833\n",
      "Epoch [30/35], Step [5/5], Loss: 0.9283\n",
      "Epoch [31/35], Step [1/5], Loss: 0.2318\n",
      "Epoch [31/35], Step [2/5], Loss: 0.2864\n",
      "Epoch [31/35], Step [3/5], Loss: 1.1674\n",
      "Epoch [31/35], Step [4/5], Loss: 0.2938\n",
      "Epoch [31/35], Step [5/5], Loss: 0.7477\n",
      "Epoch [32/35], Step [1/5], Loss: 0.3223\n",
      "Epoch [32/35], Step [2/5], Loss: 0.4291\n",
      "Epoch [32/35], Step [3/5], Loss: 0.5107\n",
      "Epoch [32/35], Step [4/5], Loss: 0.3371\n",
      "Epoch [32/35], Step [5/5], Loss: 0.2875\n",
      "Epoch [33/35], Step [1/5], Loss: 0.2939\n",
      "Epoch [33/35], Step [2/5], Loss: 0.1781\n",
      "Epoch [33/35], Step [3/5], Loss: 0.1578\n",
      "Epoch [33/35], Step [4/5], Loss: 1.5651\n",
      "Epoch [33/35], Step [5/5], Loss: 0.2085\n",
      "Epoch [34/35], Step [1/5], Loss: 0.1897\n",
      "Epoch [34/35], Step [2/5], Loss: 0.1162\n",
      "Epoch [34/35], Step [3/5], Loss: 0.3642\n",
      "Epoch [34/35], Step [4/5], Loss: 0.3994\n",
      "Epoch [34/35], Step [5/5], Loss: 0.0913\n",
      "Epoch [35/35], Step [1/5], Loss: 0.2507\n",
      "Epoch [35/35], Step [2/5], Loss: 0.3226\n",
      "Epoch [35/35], Step [3/5], Loss: 0.1407\n",
      "Epoch [35/35], Step [4/5], Loss: 0.1451\n",
      "Epoch [35/35], Step [5/5], Loss: 0.1425\n"
     ]
    }
   ],
   "source": [
    "print('Training model now...')\n",
    "total_step = len(train_loader)\n",
    "for epoch in range(num_epochs):\n",
    "    for i_batch, (images, labels) in enumerate(train_loader):\n",
    "\n",
    "        optimizer.zero_grad()\n",
    "\n",
    "        # Forward pass\n",
    "        outputs = model(images)\n",
    "        loss = criterion(outputs, labels)\n",
    "\n",
    "        # Backward and optimize\n",
    "        loss.backward()\n",
    "        optimizer.step()\n",
    "\n",
    "        if (i_batch+1) % 1 == 0:\n",
    "            print('Epoch [{}/{}], Step [{}/{}], Loss: {:.4f}'.format(epoch+1,\n",
    "                                                                      num_epochs,\n",
    "                                                                      i_batch+1,\n",
    "                                                                      total_step,\n",
    "                                                                      loss.item()))"
   ]
  },
  {
   "cell_type": "code",
   "execution_count": 45,
   "metadata": {
    "scrolled": true
   },
   "outputs": [],
   "source": [
    "def imshow_coord(img, a_label):\n",
    "    img = torchvision.transforms.ToPILImage()(img)\n",
    "    draw = ImageDraw.Draw(img)\n",
    "    draw = draw_crosspointer(a_label, draw, 'green', 'white', length=8)\n",
    "    display(img)\n",
    "    \n",
    "def draw_crosspointer(xy, draw, fillcolor_X='green', fillcolor='white', length=2):\n",
    "    a,b = tuple(xy)\n",
    "    draw.line((a-length, b+length, a+length, b-length), fill=fillcolor_X)\n",
    "    draw.line((a-length, b-length, a+length, b+length), fill=fillcolor_X)\n",
    "    draw.point((a,b))\n",
    "    return draw"
   ]
  },
  {
   "cell_type": "code",
   "execution_count": 51,
   "metadata": {
    "scrolled": true
   },
   "outputs": [
    {
     "name": "stdout",
     "output_type": "stream",
     "text": [
      "10\n",
      "truth tensor([250., 262.])\n",
      "net output tensor([250.6488, 261.7675], grad_fn=<SelectBackward>)\n",
      "torch.Size([3, 400, 300])\n",
      "net output: \n"
     ]
    },
    {
     "data": {
      "image/png": "[encoded data removed]",
      "text/plain": [
       "<PIL.Image.Image image mode=RGB size=300x400 at 0x7FBD21E1ACC0>"
      ]
     },
     "metadata": {},
     "output_type": "display_data"
    },
    {
     "name": "stdout",
     "output_type": "stream",
     "text": [
      "truth label: \n"
     ]
    },
    {
     "data": {
      "image/png": "[encoded data removed]",
      "text/plain": [
       "<PIL.Image.Image image mode=RGB size=300x400 at 0x7FBD21E1A3C8>"
      ]
     },
     "metadata": {},
     "output_type": "display_data"
    }
   ],
   "source": [
    "import torchvision \n",
    "import matplotlib.pyplot as plt\n",
    "import copy\n",
    "from IPython.display import display # to display images\n",
    "# get some random training images\n",
    "with torch.no_grad():\n",
    "    dataiter = iter(train_loader)\n",
    "    images, labels = dataiter.next()\n",
    "    outputs = model(images)\n",
    "    \n",
    "    # show images\n",
    "    #imshow_coord(torchvision.utils.make_grid(images), (outputs))\n",
    "    \n",
    "    #imgA = torchvision.transforms.ToPILImage()(images[0])\n",
    "    #draw = ImageDraw.Draw(imgA)\n",
    "    #a,b = tuple(outputs[0])\n",
    "    #draw.point(tuple(outputs[0]), fill='white')\n",
    "    #imgA.show()\n",
    "\n",
    "    # _, predicted = torch.max(outputs, 1)\n",
    "\n",
    "    # print('Predicted: ', ' '.join('%5s' % classes[predicted[j]]\n",
    "                                  # for j in range(4)))\n",
    " \n",
    "n =5 \n",
    "outputs = model(images)\n",
    "print(len(labels))\n",
    "print('truth', labels[n])\n",
    "print('net output', outputs[n])\n",
    "\n",
    "images_copy = copy.deepcopy(images)\n",
    "print(images_copy[n].size())\n",
    "print('net output: ')\n",
    "imshow_coord(images_copy[n], outputs[n])\n",
    "print('truth label: ')\n",
    "imshow_coord(images_copy[n], labels[n])\n",
    "#imagePIL = torchvision.transforms.ToPILImage()(images[n])\n",
    "#imagePIL.save('test.png')\n",
    "#display(imagePIL)\n",
    "\n",
    "#display(Image.open('./data/rect'+str(n)+'.png'))"
   ]
  },
  {
   "cell_type": "code",
   "execution_count": 65,
   "metadata": {},
   "outputs": [
    {
     "name": "stdout",
     "output_type": "stream",
     "text": [
      "[250 262]\n",
      "tensor([[250.6488, 261.7675]], grad_fn=<ThAddmmBackward>)\n"
     ]
    },
    {
     "data": {
      "text/plain": [
       "<matplotlib.image.AxesImage at 0x7fbd21428630>"
      ]
     },
     "execution_count": 65,
     "metadata": {},
     "output_type": "execute_result"
    },
    {
     "data": {
      "image/png": "[encoded data removed]",
      "text/plain": [
       "<Figure size 432x288 with 1 Axes>"
      ]
     },
     "metadata": {
      "needs_background": "light"
     },
     "output_type": "display_data"
    }
   ],
   "source": [
    "%matplotlib inline\n",
    "#im = Image.open(\"Mew.jpg\")\n",
    "n = 2\n",
    "\n",
    "image = io.imread('./data/rect'+str(n)+'.png')\n",
    "image_tensor = torch.FloatTensor(image).permute(2, 0, 1) #PIL and torch expect difft orders\n",
    "coords = torch.FloatTensor(true_coords[n])\n",
    "output = model(image_tensor)\n",
    "\n",
    "print(true_coords[n])\n",
    "print(output)\n",
    "plt.imshow(image)\n"
   ]
  },
  {
   "cell_type": "code",
   "execution_count": 39,
   "metadata": {},
   "outputs": [
    {
     "name": "stdout",
     "output_type": "stream",
     "text": [
      "torch.Size([10, 3, 400, 300])\n",
      "tensor(255.) tensor(0.) torch.Size([3, 806, 2418])\n"
     ]
    },
    {
     "name": "stderr",
     "output_type": "stream",
     "text": [
      "Clipping input data to the valid range for imshow with RGB data ([0..1] for floats or [0..255] for integers).\n"
     ]
    },
    {
     "data": {
      "text/plain": [
       "<matplotlib.image.AxesImage at 0x7fbd1dadf160>"
      ]
     },
     "execution_count": 39,
     "metadata": {},
     "output_type": "execute_result"
    },
    {
     "data": {
      "image/png": "[encoded data removed]",
      "text/plain": [
       "<Figure size 432x288 with 1 Axes>"
      ]
     },
     "metadata": {
      "needs_background": "light"
     },
     "output_type": "display_data"
    }
   ],
   "source": [
    "#img = Image.new('RGB', (300,400), 'gray')\n",
    "n = 0\n",
    "#imshow_coord(images[n], outputs[n], labels[n])\n",
    "\n",
    "print(images.size())\n",
    "a = torchvision.utils.make_grid(images)\n",
    "print(a.max(), a.min(), a.size())\n",
    "#a = a / 2 + 0.5     # unnormalize\n",
    "a = a.numpy()\n",
    "ran = a.max() - a.min()\n",
    "a = (a/ran) - 0.5\n",
    "plt.imshow(np.transpose(a, (1,2,0)))"
   ]
  },
  {
   "cell_type": "code",
   "execution_count": null,
   "metadata": {},
   "outputs": [],
   "source": []
  }
 ],
 "metadata": {
  "kernelspec": {
   "display_name": "Python 3",
   "language": "python",
   "name": "python3"
  },
  "language_info": {
   "codemirror_mode": {
    "name": "ipython",
    "version": 3
   },
   "file_extension": ".py",
   "mimetype": "text/x-python",
   "name": "python",
   "nbconvert_exporter": "python",
   "pygments_lexer": "ipython3",
   "version": "3.6.6"
  }
 },
 "nbformat": 4,
 "nbformat_minor": 2
}
