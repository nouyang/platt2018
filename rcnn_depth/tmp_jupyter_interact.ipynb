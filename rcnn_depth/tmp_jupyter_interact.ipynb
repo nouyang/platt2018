{
 "cells": [
  {
   "cell_type": "code",
   "execution_count": 6,
   "metadata": {},
   "outputs": [],
   "source": [
    "from ipywidgets import interact, interactive, fixed, interact_manual\n",
    "import ipywidgets as widgets\n",
    "from IPython.display import display\n",
    "import numpy as np\n",
    "import matplotlib.pyplot as plt\n",
    "import matplotlib.patches as patches\n",
    "import math"
   ]
  },
  {
   "cell_type": "code",
   "execution_count": 14,
   "metadata": {
    "scrolled": false
   },
   "outputs": [
    {
     "data": {
      "application/vnd.jupyter.widget-view+json": {
       "model_id": "4cab0c118922437ba0c55e1faea564be",
       "version_major": 2,
       "version_minor": 0
      },
      "text/plain": [
       "interactive(children=(FloatSlider(value=1.57, description='theta', max=3.141592653589793, step=0.01), FloatSli…"
      ]
     },
     "metadata": {},
     "output_type": "display_data"
    }
   ],
   "source": [
    "# -- Calc rectangle vertices. credit Sparkler, stackoverflow, feb 17\n",
    "def makeRectangle(l, w, theta, offset=(0, 0)):\n",
    "    c, s = math.cos(theta), math.sin(theta)\n",
    "    rectCoords = [(l / 2.0, w / 2.0), (l / 2.0, -w / 2.0),\n",
    "                  (-l / 2.0, -w / 2.0), (-l / 2.0, w / 2.0)]\n",
    "    #return np.array([(c * x - s * y + offset[0], s * x + c * y + offset[1]) for (x, y) in rectCoords]).flatten()\n",
    "    return [(c * x - s * y + offset[0], s * x + c * y + offset[1]) for (x, y) in rectCoords]\n",
    "            \n",
    "def loss(theta, theta_est):\n",
    "    thetaloss = (np.abs(theta_est - theta) + np.pi/2) % (np.pi) - np.pi/2\n",
    "    thetaloss = np.abs(thetaloss)\n",
    "    #theta = (theta%(np.pi/2))\n",
    "    #theta_est = (theta_est+10*np.pi)%(np.pi/2)\n",
    "    #thetaloss = np.abs(theta-theta_est)\n",
    "    #thetaloss = np.abs(((np.abs(theta_est)%np.pi) - np.abs(np.abs(theta)%(np.pi))) % (np.pi/2))\n",
    "    #thetaloss = np.abs(((np.abs(theta_est+10*np.pi)%np.pi) - np.abs((theta+10*np.pi)%np.pi)) % (np.pi/2))\n",
    "    #thetaloss2 = np.abs(theta_est - theta) % (np.pi/2)\n",
    "    return thetaloss \n",
    "\n",
    "block_l = 20\n",
    "block_w = 30\n",
    "def draw2Rectangs(theta, theta_est):\n",
    "    theta_corners = makeRectangle(l=block_l, w=block_w, theta=theta) \n",
    "    theta_est_corners = makeRectangle(l=block_l, w=block_w, theta=theta_est) \n",
    "    display('theta: %0.2f, %0.2f, loss = %0.3f' % (theta, theta_est, loss(theta, theta_est)))\n",
    "    display('thetamod: %0.2f, %0.2f, loss = %0.3f' % ((theta) % (np.pi/2), (np.pi/2 - theta_est) % (np.pi/2), loss(theta, theta_est)))\n",
    "        \n",
    "    fig, ax = plt.subplots()\n",
    "    poly = patches.Polygon(theta_corners, fill=True, color='black')\n",
    "    ax.add_patch(poly)\n",
    "    poly2 = patches.Polygon(theta_est_corners, fill=False, color='orange', linewidth=2)\n",
    "    ax.add_patch(poly2)\n",
    "    ax.set_aspect('equal', 'box')\n",
    "    plt.ylim(-40, 40)\n",
    "    plt.xlim(-40, 40)\n",
    "    plt.show()\n",
    "\n",
    "#def f(m, b):\n",
    "#plt.show()\n",
    "\n",
    "iplot = interactive(draw2Rectangs, theta=(0, np.pi, 0.01), theta_est = (-2*np.pi+0.5, 2+np.pi+0.5, 0.01))\n",
    "#iplot = interactive(draw2Rectangs, theta=(0, np.pi, 0.01), theta_est = (0, np.pi, 0.01))\n",
    "output = iplot.children[-1]\n",
    "output.layout.height = '350px'\n",
    "\n",
    "#output = interactive_plot.children[-1]\n",
    "#output.layout.height = '350px'\n",
    "iplot"
   ]
  },
  {
   "cell_type": "code",
   "execution_count": 15,
   "metadata": {
    "scrolled": false
   },
   "outputs": [
    {
     "name": "stdout",
     "output_type": "stream",
     "text": [
      "verts [(10.0, 15.0), (10.0, -15.0), (-10.0, -15.0), (-10.0, 15.0)]\n",
      "0\n",
      "1\n",
      "2\n",
      "3\n",
      "[(10.0, 15.0), (10.0, -15.0), (-10.0, -15.0), (-10.0, 15.0)]\n"
     ]
    },
    {
     "data": {
      "image/png": "[encoded data removed]",
      "text/plain": [
       "<Figure size 432x288 with 1 Axes>"
      ]
     },
     "metadata": {
      "needs_background": "light"
     },
     "output_type": "display_data"
    }
   ],
   "source": [
    "verts = makeRectangle(l=20,w=30,theta=0)\n",
    "print('verts', verts)\n",
    "verts = np.array(verts).flatten()\n",
    "unflat = []\n",
    "for i in range(4):\n",
    "    print(i)\n",
    "    tmpx = verts[2 * i]\n",
    "    tmpy = verts[(2 * i) + 1]\n",
    "    unflat.append((tmpx, tmpy))\n",
    "print(unflat)\n",
    "\n",
    "fig, ax = plt.subplots()\n",
    "poly = patches.Polygon(unflat, fill=True)\n",
    "ax.add_patch(poly)\n",
    "plt.show()"
   ]
  },
  {
   "cell_type": "code",
   "execution_count": 16,
   "metadata": {
    "scrolled": true
   },
   "outputs": [
    {
     "data": {
      "application/vnd.jupyter.widget-view+json": {
       "model_id": "c764e3fc650b4e58bf4236ca623a92f5",
       "version_major": 2,
       "version_minor": 0
      },
      "text/plain": [
       "interactive(children=(IntSlider(value=10, description='x', max=30, min=-10), Output()), _dom_classes=('widget-…"
      ]
     },
     "metadata": {},
     "output_type": "display_data"
    },
    {
     "data": {
      "application/vnd.jupyter.widget-view+json": {
       "model_id": "924a40406f8b453db327810f1b716d53",
       "version_major": 2,
       "version_minor": 0
      },
      "text/plain": [
       "interactive(children=(Checkbox(value=True, description='x'), Output()), _dom_classes=('widget-interact',))"
      ]
     },
     "metadata": {},
     "output_type": "display_data"
    },
    {
     "data": {
      "application/vnd.jupyter.widget-view+json": {
       "model_id": "d542021d1dda431e90e647b9539e5954",
       "version_major": 2,
       "version_minor": 0
      },
      "text/plain": [
       "interactive(children=(Text(value='Hi there!', description='x'), Output()), _dom_classes=('widget-interact',))"
      ]
     },
     "metadata": {},
     "output_type": "display_data"
    },
    {
     "data": {
      "application/vnd.jupyter.widget-view+json": {
       "model_id": "1539ca8c6cc74045a96d4b05ea4b227d",
       "version_major": 2,
       "version_minor": 0
      },
      "text/plain": [
       "interactive(children=(Checkbox(value=True, description='x'), FloatSlider(value=1.0, description='y', max=3.0, …"
      ]
     },
     "metadata": {},
     "output_type": "display_data"
    },
    {
     "data": {
      "application/vnd.jupyter.widget-view+json": {
       "model_id": "e511ed1cd7794cac8581ebe0b05d0187",
       "version_major": 2,
       "version_minor": 0
      },
      "text/plain": [
       "interactive(children=(IntSlider(value=10, description='x', max=30, min=-10), Output()), _dom_classes=('widget-…"
      ]
     },
     "metadata": {},
     "output_type": "display_data"
    },
    {
     "name": "stdout",
     "output_type": "stream",
     "text": [
      "(IntSlider(value=10, description='a', max=30, min=-10), IntSlider(value=20, description='b', max=60, min=-20), Output())\n"
     ]
    },
    {
     "data": {
      "application/vnd.jupyter.widget-view+json": {
       "model_id": "e148dfe907ca4a44bd71aaaaaf37204c",
       "version_major": 2,
       "version_minor": 0
      },
      "text/plain": [
       "interactive(children=(IntSlider(value=10, description='a', max=30, min=-10), IntSlider(value=20, description='…"
      ]
     },
     "metadata": {},
     "output_type": "display_data"
    },
    {
     "name": "stdout",
     "output_type": "stream",
     "text": [
      "arg values {'a': 10, 'b': 20}\n",
      "w result 30\n"
     ]
    },
    {
     "data": {
      "application/vnd.jupyter.widget-view+json": {
       "model_id": "e760692e54174628b92bea26ef93fff7",
       "version_major": 2,
       "version_minor": 0
      },
      "text/plain": [
       "interactive(children=(FloatSlider(value=0.0, description='m', max=2.0, min=-2.0), FloatSlider(value=0.0, descr…"
      ]
     },
     "metadata": {},
     "output_type": "display_data"
    }
   ],
   "source": [
    "def f(x):\n",
    "    return x\n",
    "interact(f, x=10);\n",
    "interact(f, x=True);\n",
    "interact(f, x='Hi there!');\n",
    "\n",
    "@interact(x=True, y=1.0)\n",
    "def g(x, y):\n",
    "    return (x, y)\n",
    "\n",
    "interact(f, x=widgets.IntSlider(min=-10,max=30,step=1,value=10));\n",
    "\n",
    "def f(a, b):\n",
    "    display(a + b)\n",
    "    return a+b\n",
    "\n",
    "w = interactive(f, a=10, b=20)\n",
    "type(w)\n",
    "print(w.children)\n",
    "display(w)\n",
    "print('arg values', w.kwargs)\n",
    "print('w result', w.result)\n",
    "\n",
    "def f(m, b):\n",
    "    plt.figure(2)\n",
    "    x = np.linspace(-10, 10, num=1000)\n",
    "    plt.plot(x, m * x + b)\n",
    "    plt.ylim(-5, 5)\n",
    "    plt.show()\n",
    "\n",
    "interactive_plot = interactive(f, m=(-2.0, 2.0), b=(-3, 3, 0.5))\n",
    "interactive_plot"
   ]
  },
  {
   "cell_type": "code",
   "execution_count": null,
   "metadata": {},
   "outputs": [],
   "source": []
  }
 ],
 "metadata": {
  "kernelspec": {
   "display_name": "Python 3",
   "language": "python",
   "name": "python3"
  },
  "language_info": {
   "codemirror_mode": {
    "name": "ipython",
    "version": 3
   },
   "file_extension": ".py",
   "mimetype": "text/x-python",
   "name": "python",
   "nbconvert_exporter": "python",
   "pygments_lexer": "ipython3",
   "version": "3.6.7"
  }
 },
 "nbformat": 4,
 "nbformat_minor": 2
}
